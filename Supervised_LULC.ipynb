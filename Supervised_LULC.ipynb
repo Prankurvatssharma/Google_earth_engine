{
  "nbformat": 4,
  "nbformat_minor": 0,
  "metadata": {
    "colab": {
      "provenance": []
    },
    "kernelspec": {
      "name": "python3",
      "display_name": "Python 3"
    },
    "language_info": {
      "name": "python"
    },
    "widgets": {
      "application/vnd.jupyter.widget-state+json": {
        "0b0e18b3085d44da8ae2ecd284c463b7": {
          "model_module": "jupyter-leaflet",
          "model_name": "LeafletMapModel",
          "model_module_version": "^0.17",
          "state": {
            "_dom_classes": [],
            "_model_module": "jupyter-leaflet",
            "_model_module_version": "^0.17",
            "_model_name": "LeafletMapModel",
            "_view_count": null,
            "_view_module": "jupyter-leaflet",
            "_view_module_version": "^0.17",
            "_view_name": "LeafletMapView",
            "bottom": 27345,
            "bounce_at_zoom_limits": true,
            "box_zoom": true,
            "center": [
              29.968,
              77.5552
            ],
            "close_popup_on_click": true,
            "controls": [
              "IPY_MODEL_65ed04fba3ea44e6b1e25377d92986fa",
              "IPY_MODEL_2d17b8bc37f8470296497a0dfc9f68a6",
              "IPY_MODEL_e58d781dd2d945aeb1fd84010355ec8e",
              "IPY_MODEL_bcf22a3d319d4ff589051768a4b6c3ab",
              "IPY_MODEL_3dd0c8df447f45c39d9e848dd6ee0d53",
              "IPY_MODEL_ee0b1e704d244a1293de5c113b26550b",
              "IPY_MODEL_0ddf47e1bc0f4494a8a1a900857826a9",
              "IPY_MODEL_d8534ffe54104d0f9210b6e1bb908bf4",
              "IPY_MODEL_677c748df9704a8495355b5231b1b361",
              "IPY_MODEL_139d5a6ed7124438922085617c7e03c6"
            ],
            "crs": {
              "name": "EPSG3857",
              "custom": false
            },
            "default_style": "IPY_MODEL_9de1d179e52f4b0c84823ab0b13e6f4f",
            "double_click_zoom": true,
            "dragging": true,
            "dragging_style": "IPY_MODEL_0d0502c7462f42a18256fafc3f36fd82",
            "east": 80.95825195312501,
            "fullscreen": false,
            "inertia": true,
            "inertia_deceleration": 3000,
            "inertia_max_speed": 1500,
            "interpolation": "bilinear",
            "keyboard": true,
            "keyboard_pan_offset": 80,
            "keyboard_zoom_offset": 1,
            "layers": [
              "IPY_MODEL_ae10ceb009dc49bbabcb070d4b2df567",
              "IPY_MODEL_59b93ef578474e3b9cb979266d7bca8f",
              "IPY_MODEL_501d80ba826b45b7a98a526643d45a81",
              "IPY_MODEL_1a8a09ec1f944081b6adf38f477875dd",
              "IPY_MODEL_d22beeb6c4df4813a1e255487cee6490",
              "IPY_MODEL_bd65d966e29044dcb795a676c61a60d6",
              "IPY_MODEL_9cc2058334fe4555ad888bf9e82b1517"
            ],
            "layout": "IPY_MODEL_e5a747f0eb474a16bbec4a44860b1cb8",
            "left": 46266,
            "max_zoom": 24,
            "min_zoom": null,
            "modisdate": "2023-04-25",
            "north": 31.3864682695423,
            "options": [
              "bounce_at_zoom_limits",
              "box_zoom",
              "center",
              "close_popup_on_click",
              "double_click_zoom",
              "dragging",
              "fullscreen",
              "inertia",
              "inertia_deceleration",
              "inertia_max_speed",
              "interpolation",
              "keyboard",
              "keyboard_pan_offset",
              "keyboard_zoom_offset",
              "max_zoom",
              "min_zoom",
              "prefer_canvas",
              "scroll_wheel_zoom",
              "tap",
              "tap_tolerance",
              "touch_zoom",
              "world_copy_jump",
              "zoom",
              "zoom_animation_threshold",
              "zoom_delta",
              "zoom_snap"
            ],
            "panes": {},
            "prefer_canvas": false,
            "right": 47506,
            "scroll_wheel_zoom": true,
            "south": 28.53144857631924,
            "style": "IPY_MODEL_9de1d179e52f4b0c84823ab0b13e6f4f",
            "tap": true,
            "tap_tolerance": 15,
            "top": 26745,
            "touch_zoom": true,
            "west": 74.14672851562501,
            "window_url": "https://fmsd1m7z7cm-496ff2e9c6d22116-0-colab.googleusercontent.com/outputframe.html?vrz=colab-20230424-060148-RC01_526666385",
            "world_copy_jump": false,
            "zoom": 8,
            "zoom_animation_threshold": 4,
            "zoom_delta": 1,
            "zoom_snap": 1
          }
        },
        "65ed04fba3ea44e6b1e25377d92986fa": {
          "model_module": "jupyter-leaflet",
          "model_name": "LeafletWidgetControlModel",
          "model_module_version": "^0.17",
          "state": {
            "_model_module": "jupyter-leaflet",
            "_model_module_version": "^0.17",
            "_model_name": "LeafletWidgetControlModel",
            "_view_count": null,
            "_view_module": "jupyter-leaflet",
            "_view_module_version": "^0.17",
            "_view_name": "LeafletWidgetControlView",
            "max_height": null,
            "max_width": null,
            "min_height": null,
            "min_width": null,
            "options": [
              "position",
              "transparent_bg"
            ],
            "position": "topleft",
            "transparent_bg": false,
            "widget": "IPY_MODEL_0df44593171345e38c3ce6ea5383aa63"
          }
        },
        "2d17b8bc37f8470296497a0dfc9f68a6": {
          "model_module": "jupyter-leaflet",
          "model_name": "LeafletZoomControlModel",
          "model_module_version": "^0.17",
          "state": {
            "_model_module": "jupyter-leaflet",
            "_model_module_version": "^0.17",
            "_model_name": "LeafletZoomControlModel",
            "_view_count": null,
            "_view_module": "jupyter-leaflet",
            "_view_module_version": "^0.17",
            "_view_name": "LeafletZoomControlView",
            "options": [
              "position",
              "zoom_in_text",
              "zoom_in_title",
              "zoom_out_text",
              "zoom_out_title"
            ],
            "position": "topleft",
            "zoom_in_text": "+",
            "zoom_in_title": "Zoom in",
            "zoom_out_text": "-",
            "zoom_out_title": "Zoom out"
          }
        },
        "e58d781dd2d945aeb1fd84010355ec8e": {
          "model_module": "jupyter-leaflet",
          "model_name": "LeafletScaleControlModel",
          "model_module_version": "^0.17",
          "state": {
            "_model_module": "jupyter-leaflet",
            "_model_module_version": "^0.17",
            "_model_name": "LeafletScaleControlModel",
            "_view_count": null,
            "_view_module": "jupyter-leaflet",
            "_view_module_version": "^0.17",
            "_view_name": "LeafletScaleControlView",
            "imperial": true,
            "max_width": 100,
            "metric": true,
            "options": [
              "imperial",
              "max_width",
              "metric",
              "position",
              "update_when_idle"
            ],
            "position": "bottomleft",
            "update_when_idle": false
          }
        },
        "bcf22a3d319d4ff589051768a4b6c3ab": {
          "model_module": "jupyter-leaflet",
          "model_name": "LeafletFullScreenControlModel",
          "model_module_version": "^0.17",
          "state": {
            "_model_module": "jupyter-leaflet",
            "_model_module_version": "^0.17",
            "_model_name": "LeafletFullScreenControlModel",
            "_view_count": null,
            "_view_module": "jupyter-leaflet",
            "_view_module_version": "^0.17",
            "_view_name": "LeafletFullScreenControlView",
            "options": [
              "position"
            ],
            "position": "topleft"
          }
        },
        "3dd0c8df447f45c39d9e848dd6ee0d53": {
          "model_module": "jupyter-leaflet",
          "model_name": "LeafletMeasureControlModel",
          "model_module_version": "^0.17",
          "state": {
            "_custom_units": {},
            "_model_module": "jupyter-leaflet",
            "_model_module_version": "^0.17",
            "_model_name": "LeafletMeasureControlModel",
            "_view_count": null,
            "_view_module": "jupyter-leaflet",
            "_view_module_version": "^0.17",
            "_view_name": "LeafletMeasureControlView",
            "active_color": "orange",
            "capture_z_index": 10000,
            "completed_color": "#C8F2BE",
            "options": [
              "active_color",
              "capture_z_index",
              "completed_color",
              "popup_options",
              "position",
              "primary_area_unit",
              "primary_length_unit",
              "secondary_area_unit",
              "secondary_length_unit"
            ],
            "popup_options": {
              "className": "leaflet-measure-resultpopup",
              "autoPanPadding": [
                10,
                10
              ]
            },
            "position": "bottomleft",
            "primary_area_unit": "acres",
            "primary_length_unit": "kilometers",
            "secondary_area_unit": null,
            "secondary_length_unit": null
          }
        },
        "ee0b1e704d244a1293de5c113b26550b": {
          "model_module": "jupyter-leaflet",
          "model_name": "LeafletAttributionControlModel",
          "model_module_version": "^0.17",
          "state": {
            "_model_module": "jupyter-leaflet",
            "_model_module_version": "^0.17",
            "_model_name": "LeafletAttributionControlModel",
            "_view_count": null,
            "_view_module": "jupyter-leaflet",
            "_view_module_version": "^0.17",
            "_view_name": "LeafletAttributionControlView",
            "options": [
              "position",
              "prefix"
            ],
            "position": "bottomright",
            "prefix": "ipyleaflet"
          }
        },
        "0ddf47e1bc0f4494a8a1a900857826a9": {
          "model_module": "jupyter-leaflet",
          "model_name": "LeafletDrawControlModel",
          "model_module_version": "^0.17",
          "state": {
            "_model_module": "jupyter-leaflet",
            "_model_module_version": "^0.17",
            "_model_name": "LeafletDrawControlModel",
            "_view_count": null,
            "_view_module": "jupyter-leaflet",
            "_view_module_version": "^0.17",
            "_view_name": "LeafletDrawControlView",
            "circle": {
              "shapeOptions": {
                "color": "#3388ff"
              }
            },
            "circlemarker": {},
            "data": [],
            "edit": true,
            "marker": {
              "shapeOptions": {
                "color": "#3388ff"
              }
            },
            "options": [
              "position"
            ],
            "polygon": {
              "shapeOptions": {}
            },
            "polyline": {
              "shapeOptions": {}
            },
            "position": "topleft",
            "rectangle": {
              "shapeOptions": {
                "color": "#3388ff"
              }
            },
            "remove": true
          }
        },
        "d8534ffe54104d0f9210b6e1bb908bf4": {
          "model_module": "jupyter-leaflet",
          "model_name": "LeafletWidgetControlModel",
          "model_module_version": "^0.17",
          "state": {
            "_model_module": "jupyter-leaflet",
            "_model_module_version": "^0.17",
            "_model_name": "LeafletWidgetControlModel",
            "_view_count": null,
            "_view_module": "jupyter-leaflet",
            "_view_module_version": "^0.17",
            "_view_name": "LeafletWidgetControlView",
            "max_height": null,
            "max_width": null,
            "min_height": null,
            "min_width": null,
            "options": [
              "position",
              "transparent_bg"
            ],
            "position": "topright",
            "transparent_bg": false,
            "widget": "IPY_MODEL_e5e6ef0a70974197bb0ef8ee987ba961"
          }
        },
        "9de1d179e52f4b0c84823ab0b13e6f4f": {
          "model_module": "jupyter-leaflet",
          "model_name": "LeafletMapStyleModel",
          "model_module_version": "^0.17",
          "state": {
            "_model_module": "jupyter-leaflet",
            "_model_module_version": "^0.17",
            "_model_name": "LeafletMapStyleModel",
            "_view_count": null,
            "_view_module": "@jupyter-widgets/base",
            "_view_module_version": "1.2.0",
            "_view_name": "StyleView",
            "cursor": "grab"
          }
        },
        "0d0502c7462f42a18256fafc3f36fd82": {
          "model_module": "jupyter-leaflet",
          "model_name": "LeafletMapStyleModel",
          "model_module_version": "^0.17",
          "state": {
            "_model_module": "jupyter-leaflet",
            "_model_module_version": "^0.17",
            "_model_name": "LeafletMapStyleModel",
            "_view_count": null,
            "_view_module": "@jupyter-widgets/base",
            "_view_module_version": "1.2.0",
            "_view_name": "StyleView",
            "cursor": "move"
          }
        },
        "ae10ceb009dc49bbabcb070d4b2df567": {
          "model_module": "jupyter-leaflet",
          "model_name": "LeafletTileLayerModel",
          "model_module_version": "^0.17",
          "state": {
            "_model_module": "jupyter-leaflet",
            "_model_module_version": "^0.17",
            "_model_name": "LeafletTileLayerModel",
            "_view_count": null,
            "_view_module": "jupyter-leaflet",
            "_view_module_version": "^0.17",
            "_view_name": "LeafletTileLayerView",
            "attribution": "&copy; <a href=\"https://www.openstreetmap.org/copyright\">OpenStreetMap</a> contributors",
            "base": true,
            "bottom": true,
            "bounds": null,
            "detect_retina": false,
            "loading": false,
            "max_native_zoom": null,
            "max_zoom": 19,
            "min_native_zoom": null,
            "min_zoom": 1,
            "name": "OpenStreetMap.Mapnik",
            "no_wrap": false,
            "opacity": 1,
            "options": [
              "attribution",
              "bounds",
              "detect_retina",
              "max_native_zoom",
              "max_zoom",
              "min_native_zoom",
              "min_zoom",
              "no_wrap",
              "tile_size",
              "tms",
              "zoom_offset"
            ],
            "pane": "",
            "popup": null,
            "popup_max_height": null,
            "popup_max_width": 300,
            "popup_min_width": 50,
            "show_loading": false,
            "subitems": [],
            "tile_size": 256,
            "tms": false,
            "url": "https://tile.openstreetmap.org/{z}/{x}/{y}.png",
            "visible": true,
            "zoom_offset": 0
          }
        },
        "59b93ef578474e3b9cb979266d7bca8f": {
          "model_module": "jupyter-leaflet",
          "model_name": "LeafletTileLayerModel",
          "model_module_version": "^0.17",
          "state": {
            "_model_module": "jupyter-leaflet",
            "_model_module_version": "^0.17",
            "_model_name": "LeafletTileLayerModel",
            "_view_count": null,
            "_view_module": "jupyter-leaflet",
            "_view_module_version": "^0.17",
            "_view_name": "LeafletTileLayerView",
            "attribution": "Google",
            "base": false,
            "bottom": true,
            "bounds": null,
            "detect_retina": false,
            "loading": false,
            "max_native_zoom": null,
            "max_zoom": 22,
            "min_native_zoom": null,
            "min_zoom": 0,
            "name": "Google Maps",
            "no_wrap": false,
            "opacity": 1,
            "options": [
              "attribution",
              "bounds",
              "detect_retina",
              "max_native_zoom",
              "max_zoom",
              "min_native_zoom",
              "min_zoom",
              "no_wrap",
              "tile_size",
              "tms",
              "zoom_offset"
            ],
            "pane": "",
            "popup": null,
            "popup_max_height": null,
            "popup_max_width": 300,
            "popup_min_width": 50,
            "show_loading": false,
            "subitems": [],
            "tile_size": 256,
            "tms": false,
            "url": "https://mt1.google.com/vt/lyrs=m&x={x}&y={y}&z={z}",
            "visible": true,
            "zoom_offset": 0
          }
        },
        "e5a747f0eb474a16bbec4a44860b1cb8": {
          "model_module": "@jupyter-widgets/base",
          "model_name": "LayoutModel",
          "model_module_version": "1.2.0",
          "state": {
            "_model_module": "@jupyter-widgets/base",
            "_model_module_version": "1.2.0",
            "_model_name": "LayoutModel",
            "_view_count": null,
            "_view_module": "@jupyter-widgets/base",
            "_view_module_version": "1.2.0",
            "_view_name": "LayoutView",
            "align_content": null,
            "align_items": null,
            "align_self": null,
            "border": null,
            "bottom": null,
            "display": null,
            "flex": null,
            "flex_flow": null,
            "grid_area": null,
            "grid_auto_columns": null,
            "grid_auto_flow": null,
            "grid_auto_rows": null,
            "grid_column": null,
            "grid_gap": null,
            "grid_row": null,
            "grid_template_areas": null,
            "grid_template_columns": null,
            "grid_template_rows": null,
            "height": "600px",
            "justify_content": null,
            "justify_items": null,
            "left": null,
            "margin": null,
            "max_height": null,
            "max_width": null,
            "min_height": null,
            "min_width": null,
            "object_fit": null,
            "object_position": null,
            "order": null,
            "overflow": null,
            "overflow_x": null,
            "overflow_y": null,
            "padding": null,
            "right": null,
            "top": null,
            "visibility": null,
            "width": null
          }
        },
        "71669658c82a4c988ff11e548b423509": {
          "model_module": "jupyter-leaflet",
          "model_name": "LeafletMapStyleModel",
          "model_module_version": "^0.17",
          "state": {
            "_model_module": "jupyter-leaflet",
            "_model_module_version": "^0.17",
            "_model_name": "LeafletMapStyleModel",
            "_view_count": null,
            "_view_module": "@jupyter-widgets/base",
            "_view_module_version": "1.2.0",
            "_view_name": "StyleView",
            "cursor": "grab"
          }
        },
        "0df44593171345e38c3ce6ea5383aa63": {
          "model_module": "@jupyter-widgets/controls",
          "model_name": "HBoxModel",
          "model_module_version": "1.5.0",
          "state": {
            "_dom_classes": [],
            "_model_module": "@jupyter-widgets/controls",
            "_model_module_version": "1.5.0",
            "_model_name": "HBoxModel",
            "_view_count": null,
            "_view_module": "@jupyter-widgets/controls",
            "_view_module_version": "1.5.0",
            "_view_name": "HBoxView",
            "box_style": "",
            "children": [
              "IPY_MODEL_9cdcdcbc91d14c4289ab15266234d3de"
            ],
            "layout": "IPY_MODEL_9fb0ed7d0c05419184498340efafb736"
          }
        },
        "e5e6ef0a70974197bb0ef8ee987ba961": {
          "model_module": "@jupyter-widgets/controls",
          "model_name": "VBoxModel",
          "model_module_version": "1.5.0",
          "state": {
            "_dom_classes": [],
            "_model_module": "@jupyter-widgets/controls",
            "_model_module_version": "1.5.0",
            "_model_name": "VBoxModel",
            "_view_count": null,
            "_view_module": "@jupyter-widgets/controls",
            "_view_module_version": "1.5.0",
            "_view_name": "VBoxView",
            "box_style": "",
            "children": [
              "IPY_MODEL_2725fec96e5c48dda482268c29f2910e"
            ],
            "layout": "IPY_MODEL_aa25806a69014aa5bab90c53e441580b"
          }
        },
        "9cdcdcbc91d14c4289ab15266234d3de": {
          "model_module": "@jupyter-widgets/controls",
          "model_name": "ToggleButtonModel",
          "model_module_version": "1.5.0",
          "state": {
            "_dom_classes": [],
            "_model_module": "@jupyter-widgets/controls",
            "_model_module_version": "1.5.0",
            "_model_name": "ToggleButtonModel",
            "_view_count": null,
            "_view_module": "@jupyter-widgets/controls",
            "_view_module_version": "1.5.0",
            "_view_name": "ToggleButtonView",
            "button_style": "",
            "description": "",
            "description_tooltip": null,
            "disabled": false,
            "icon": "globe",
            "layout": "IPY_MODEL_cde8cc450d7e4fefafc1df07167197f8",
            "style": "IPY_MODEL_a4c97d4e151f4570a1f3297972b12cb1",
            "tooltip": "Search location/data",
            "value": false
          }
        },
        "9fb0ed7d0c05419184498340efafb736": {
          "model_module": "@jupyter-widgets/base",
          "model_name": "LayoutModel",
          "model_module_version": "1.2.0",
          "state": {
            "_model_module": "@jupyter-widgets/base",
            "_model_module_version": "1.2.0",
            "_model_name": "LayoutModel",
            "_view_count": null,
            "_view_module": "@jupyter-widgets/base",
            "_view_module_version": "1.2.0",
            "_view_name": "LayoutView",
            "align_content": null,
            "align_items": null,
            "align_self": null,
            "border": null,
            "bottom": null,
            "display": null,
            "flex": null,
            "flex_flow": null,
            "grid_area": null,
            "grid_auto_columns": null,
            "grid_auto_flow": null,
            "grid_auto_rows": null,
            "grid_column": null,
            "grid_gap": null,
            "grid_row": null,
            "grid_template_areas": null,
            "grid_template_columns": null,
            "grid_template_rows": null,
            "height": null,
            "justify_content": null,
            "justify_items": null,
            "left": null,
            "margin": null,
            "max_height": null,
            "max_width": null,
            "min_height": null,
            "min_width": null,
            "object_fit": null,
            "object_position": null,
            "order": null,
            "overflow": null,
            "overflow_x": null,
            "overflow_y": null,
            "padding": null,
            "right": null,
            "top": null,
            "visibility": null,
            "width": null
          }
        },
        "2725fec96e5c48dda482268c29f2910e": {
          "model_module": "@jupyter-widgets/controls",
          "model_name": "ToggleButtonModel",
          "model_module_version": "1.5.0",
          "state": {
            "_dom_classes": [],
            "_model_module": "@jupyter-widgets/controls",
            "_model_module_version": "1.5.0",
            "_model_name": "ToggleButtonModel",
            "_view_count": null,
            "_view_module": "@jupyter-widgets/controls",
            "_view_module_version": "1.5.0",
            "_view_name": "ToggleButtonView",
            "button_style": "",
            "description": "",
            "description_tooltip": null,
            "disabled": false,
            "icon": "wrench",
            "layout": "IPY_MODEL_781a0547b0f4477a870e64c19e152e9a",
            "style": "IPY_MODEL_443b6699739248989e54377f36cfe625",
            "tooltip": "Toolbar",
            "value": false
          }
        },
        "aa25806a69014aa5bab90c53e441580b": {
          "model_module": "@jupyter-widgets/base",
          "model_name": "LayoutModel",
          "model_module_version": "1.2.0",
          "state": {
            "_model_module": "@jupyter-widgets/base",
            "_model_module_version": "1.2.0",
            "_model_name": "LayoutModel",
            "_view_count": null,
            "_view_module": "@jupyter-widgets/base",
            "_view_module_version": "1.2.0",
            "_view_name": "LayoutView",
            "align_content": null,
            "align_items": null,
            "align_self": null,
            "border": null,
            "bottom": null,
            "display": null,
            "flex": null,
            "flex_flow": null,
            "grid_area": null,
            "grid_auto_columns": null,
            "grid_auto_flow": null,
            "grid_auto_rows": null,
            "grid_column": null,
            "grid_gap": null,
            "grid_row": null,
            "grid_template_areas": null,
            "grid_template_columns": null,
            "grid_template_rows": null,
            "height": null,
            "justify_content": null,
            "justify_items": null,
            "left": null,
            "margin": null,
            "max_height": null,
            "max_width": null,
            "min_height": null,
            "min_width": null,
            "object_fit": null,
            "object_position": null,
            "order": null,
            "overflow": null,
            "overflow_x": null,
            "overflow_y": null,
            "padding": null,
            "right": null,
            "top": null,
            "visibility": null,
            "width": null
          }
        },
        "cde8cc450d7e4fefafc1df07167197f8": {
          "model_module": "@jupyter-widgets/base",
          "model_name": "LayoutModel",
          "model_module_version": "1.2.0",
          "state": {
            "_model_module": "@jupyter-widgets/base",
            "_model_module_version": "1.2.0",
            "_model_name": "LayoutModel",
            "_view_count": null,
            "_view_module": "@jupyter-widgets/base",
            "_view_module_version": "1.2.0",
            "_view_name": "LayoutView",
            "align_content": null,
            "align_items": null,
            "align_self": null,
            "border": null,
            "bottom": null,
            "display": null,
            "flex": null,
            "flex_flow": null,
            "grid_area": null,
            "grid_auto_columns": null,
            "grid_auto_flow": null,
            "grid_auto_rows": null,
            "grid_column": null,
            "grid_gap": null,
            "grid_row": null,
            "grid_template_areas": null,
            "grid_template_columns": null,
            "grid_template_rows": null,
            "height": "28px",
            "justify_content": null,
            "justify_items": null,
            "left": null,
            "margin": null,
            "max_height": null,
            "max_width": null,
            "min_height": null,
            "min_width": null,
            "object_fit": null,
            "object_position": null,
            "order": null,
            "overflow": null,
            "overflow_x": null,
            "overflow_y": null,
            "padding": "0px 0px 0px 4px",
            "right": null,
            "top": null,
            "visibility": null,
            "width": "28px"
          }
        },
        "a4c97d4e151f4570a1f3297972b12cb1": {
          "model_module": "@jupyter-widgets/controls",
          "model_name": "DescriptionStyleModel",
          "model_module_version": "1.5.0",
          "state": {
            "_model_module": "@jupyter-widgets/controls",
            "_model_module_version": "1.5.0",
            "_model_name": "DescriptionStyleModel",
            "_view_count": null,
            "_view_module": "@jupyter-widgets/base",
            "_view_module_version": "1.2.0",
            "_view_name": "StyleView",
            "description_width": ""
          }
        },
        "781a0547b0f4477a870e64c19e152e9a": {
          "model_module": "@jupyter-widgets/base",
          "model_name": "LayoutModel",
          "model_module_version": "1.2.0",
          "state": {
            "_model_module": "@jupyter-widgets/base",
            "_model_module_version": "1.2.0",
            "_model_name": "LayoutModel",
            "_view_count": null,
            "_view_module": "@jupyter-widgets/base",
            "_view_module_version": "1.2.0",
            "_view_name": "LayoutView",
            "align_content": null,
            "align_items": null,
            "align_self": null,
            "border": null,
            "bottom": null,
            "display": null,
            "flex": null,
            "flex_flow": null,
            "grid_area": null,
            "grid_auto_columns": null,
            "grid_auto_flow": null,
            "grid_auto_rows": null,
            "grid_column": null,
            "grid_gap": null,
            "grid_row": null,
            "grid_template_areas": null,
            "grid_template_columns": null,
            "grid_template_rows": null,
            "height": "28px",
            "justify_content": null,
            "justify_items": null,
            "left": null,
            "margin": null,
            "max_height": null,
            "max_width": null,
            "min_height": null,
            "min_width": null,
            "object_fit": null,
            "object_position": null,
            "order": null,
            "overflow": null,
            "overflow_x": null,
            "overflow_y": null,
            "padding": "0px 0px 0px 4px",
            "right": null,
            "top": null,
            "visibility": null,
            "width": "28px"
          }
        },
        "443b6699739248989e54377f36cfe625": {
          "model_module": "@jupyter-widgets/controls",
          "model_name": "DescriptionStyleModel",
          "model_module_version": "1.5.0",
          "state": {
            "_model_module": "@jupyter-widgets/controls",
            "_model_module_version": "1.5.0",
            "_model_name": "DescriptionStyleModel",
            "_view_count": null,
            "_view_module": "@jupyter-widgets/base",
            "_view_module_version": "1.2.0",
            "_view_name": "StyleView",
            "description_width": ""
          }
        },
        "501d80ba826b45b7a98a526643d45a81": {
          "model_module": "jupyter-leaflet",
          "model_name": "LeafletTileLayerModel",
          "model_module_version": "^0.17",
          "state": {
            "_model_module": "jupyter-leaflet",
            "_model_module_version": "^0.17",
            "_model_name": "LeafletTileLayerModel",
            "_view_count": null,
            "_view_module": "jupyter-leaflet",
            "_view_module_version": "^0.17",
            "_view_name": "LeafletTileLayerView",
            "attribution": "Google Earth Engine",
            "base": false,
            "bottom": true,
            "bounds": null,
            "detect_retina": false,
            "loading": false,
            "max_native_zoom": null,
            "max_zoom": 24,
            "min_native_zoom": null,
            "min_zoom": 0,
            "name": "Landsat-8",
            "no_wrap": false,
            "opacity": 1,
            "options": [
              "attribution",
              "bounds",
              "detect_retina",
              "max_native_zoom",
              "max_zoom",
              "min_native_zoom",
              "min_zoom",
              "no_wrap",
              "tile_size",
              "tms",
              "zoom_offset"
            ],
            "pane": "",
            "popup": null,
            "popup_max_height": null,
            "popup_max_width": 300,
            "popup_min_width": 50,
            "show_loading": false,
            "subitems": [],
            "tile_size": 256,
            "tms": false,
            "url": "https://earthengine.googleapis.com/v1alpha/projects/earthengine-legacy/maps/fe01306b15859d5f7245685b2946bfd0-9d7335a5586d7cd6d08d33916694b220/tiles/{z}/{x}/{y}",
            "visible": true,
            "zoom_offset": 0
          }
        },
        "677c748df9704a8495355b5231b1b361": {
          "model_module": "jupyter-leaflet",
          "model_name": "LeafletLayersControlModel",
          "model_module_version": "^0.17",
          "state": {
            "_model_module": "jupyter-leaflet",
            "_model_module_version": "^0.17",
            "_model_name": "LeafletLayersControlModel",
            "_view_count": null,
            "_view_module": "jupyter-leaflet",
            "_view_module_version": "^0.17",
            "_view_name": "LeafletLayersControlView",
            "options": [
              "position"
            ],
            "position": "topright"
          }
        },
        "1788710dd4884b978e907c2c956cae21": {
          "model_module": "jupyter-leaflet",
          "model_name": "LeafletTileLayerModel",
          "model_module_version": "^0.17",
          "state": {
            "_model_module": "jupyter-leaflet",
            "_model_module_version": "^0.17",
            "_model_name": "LeafletTileLayerModel",
            "_view_count": null,
            "_view_module": "jupyter-leaflet",
            "_view_module_version": "^0.17",
            "_view_name": "LeafletTileLayerView",
            "attribution": "Google Earth Engine",
            "base": false,
            "bottom": true,
            "bounds": null,
            "detect_retina": false,
            "loading": false,
            "max_native_zoom": null,
            "max_zoom": 24,
            "min_native_zoom": null,
            "min_zoom": 0,
            "name": "Land Cover",
            "no_wrap": false,
            "opacity": 1,
            "options": [
              "attribution",
              "bounds",
              "detect_retina",
              "max_native_zoom",
              "max_zoom",
              "min_native_zoom",
              "min_zoom",
              "no_wrap",
              "tile_size",
              "tms",
              "zoom_offset"
            ],
            "pane": "",
            "popup": null,
            "popup_max_height": null,
            "popup_max_width": 300,
            "popup_min_width": 50,
            "show_loading": false,
            "subitems": [],
            "tile_size": 256,
            "tms": false,
            "url": "https://earthengine.googleapis.com/v1alpha/projects/earthengine-legacy/maps/a81e1239df12b09b6b6cc5aed5dd42a2-c692a9417ba707ba767a23c44dce6bbc/tiles/{z}/{x}/{y}",
            "visible": true,
            "zoom_offset": 0
          }
        },
        "1a8a09ec1f944081b6adf38f477875dd": {
          "model_module": "jupyter-leaflet",
          "model_name": "LeafletTileLayerModel",
          "model_module_version": "^0.17",
          "state": {
            "_model_module": "jupyter-leaflet",
            "_model_module_version": "^0.17",
            "_model_name": "LeafletTileLayerModel",
            "_view_count": null,
            "_view_module": "jupyter-leaflet",
            "_view_module_version": "^0.17",
            "_view_name": "LeafletTileLayerView",
            "attribution": "Google Earth Engine",
            "base": false,
            "bottom": true,
            "bounds": null,
            "detect_retina": false,
            "loading": false,
            "max_native_zoom": null,
            "max_zoom": 24,
            "min_native_zoom": null,
            "min_zoom": 0,
            "name": "Land Cover",
            "no_wrap": false,
            "opacity": 1,
            "options": [
              "attribution",
              "bounds",
              "detect_retina",
              "max_native_zoom",
              "max_zoom",
              "min_native_zoom",
              "min_zoom",
              "no_wrap",
              "tile_size",
              "tms",
              "zoom_offset"
            ],
            "pane": "",
            "popup": null,
            "popup_max_height": null,
            "popup_max_width": 300,
            "popup_min_width": 50,
            "show_loading": false,
            "subitems": [],
            "tile_size": 256,
            "tms": false,
            "url": "https://earthengine.googleapis.com/v1alpha/projects/earthengine-legacy/maps/a81e1239df12b09b6b6cc5aed5dd42a2-ce6e6b2e1b0480bf6c353a1966530f8e/tiles/{z}/{x}/{y}",
            "visible": true,
            "zoom_offset": 0
          }
        },
        "d22beeb6c4df4813a1e255487cee6490": {
          "model_module": "jupyter-leaflet",
          "model_name": "LeafletTileLayerModel",
          "model_module_version": "^0.17",
          "state": {
            "_model_module": "jupyter-leaflet",
            "_model_module_version": "^0.17",
            "_model_name": "LeafletTileLayerModel",
            "_view_count": null,
            "_view_module": "jupyter-leaflet",
            "_view_module_version": "^0.17",
            "_view_name": "LeafletTileLayerView",
            "attribution": "Google Earth Engine",
            "base": false,
            "bottom": true,
            "bounds": null,
            "detect_retina": false,
            "loading": false,
            "max_native_zoom": null,
            "max_zoom": 24,
            "min_native_zoom": null,
            "min_zoom": 0,
            "name": "training",
            "no_wrap": false,
            "opacity": 1,
            "options": [
              "attribution",
              "bounds",
              "detect_retina",
              "max_native_zoom",
              "max_zoom",
              "min_native_zoom",
              "min_zoom",
              "no_wrap",
              "tile_size",
              "tms",
              "zoom_offset"
            ],
            "pane": "",
            "popup": null,
            "popup_max_height": null,
            "popup_max_width": 300,
            "popup_min_width": 50,
            "show_loading": false,
            "subitems": [],
            "tile_size": 256,
            "tms": false,
            "url": "https://earthengine.googleapis.com/v1alpha/projects/earthengine-legacy/maps/eb54d7a5caf5b21e223e4139cb148ad3-20d0ef9e5571a93a487f55a3042ef9a3/tiles/{z}/{x}/{y}",
            "visible": false,
            "zoom_offset": 0
          }
        },
        "bd65d966e29044dcb795a676c61a60d6": {
          "model_module": "jupyter-leaflet",
          "model_name": "LeafletTileLayerModel",
          "model_module_version": "^0.17",
          "state": {
            "_model_module": "jupyter-leaflet",
            "_model_module_version": "^0.17",
            "_model_name": "LeafletTileLayerModel",
            "_view_count": null,
            "_view_module": "jupyter-leaflet",
            "_view_module_version": "^0.17",
            "_view_name": "LeafletTileLayerView",
            "attribution": "Google Earth Engine",
            "base": false,
            "bottom": true,
            "bounds": null,
            "detect_retina": false,
            "loading": false,
            "max_native_zoom": null,
            "max_zoom": 24,
            "min_native_zoom": null,
            "min_zoom": 0,
            "name": "classified",
            "no_wrap": false,
            "opacity": 1,
            "options": [
              "attribution",
              "bounds",
              "detect_retina",
              "max_native_zoom",
              "max_zoom",
              "min_native_zoom",
              "min_zoom",
              "no_wrap",
              "tile_size",
              "tms",
              "zoom_offset"
            ],
            "pane": "",
            "popup": null,
            "popup_max_height": null,
            "popup_max_width": 300,
            "popup_min_width": 50,
            "show_loading": false,
            "subitems": [],
            "tile_size": 256,
            "tms": false,
            "url": "https://earthengine.googleapis.com/v1alpha/projects/earthengine-legacy/maps/11152761dee53cd2156e708848241857-f9b04335e277a89dfc53da1859bf6caa/tiles/{z}/{x}/{y}",
            "visible": true,
            "zoom_offset": 0
          }
        },
        "9cc2058334fe4555ad888bf9e82b1517": {
          "model_module": "jupyter-leaflet",
          "model_name": "LeafletTileLayerModel",
          "model_module_version": "^0.17",
          "state": {
            "_model_module": "jupyter-leaflet",
            "_model_module_version": "^0.17",
            "_model_name": "LeafletTileLayerModel",
            "_view_count": null,
            "_view_module": "jupyter-leaflet",
            "_view_module_version": "^0.17",
            "_view_name": "LeafletTileLayerView",
            "attribution": "Google Earth Engine",
            "base": false,
            "bottom": true,
            "bounds": null,
            "detect_retina": false,
            "loading": false,
            "max_native_zoom": null,
            "max_zoom": 24,
            "min_native_zoom": null,
            "min_zoom": 0,
            "name": "Land cover",
            "no_wrap": false,
            "opacity": 0.1,
            "options": [
              "attribution",
              "bounds",
              "detect_retina",
              "max_native_zoom",
              "max_zoom",
              "min_native_zoom",
              "min_zoom",
              "no_wrap",
              "tile_size",
              "tms",
              "zoom_offset"
            ],
            "pane": "",
            "popup": null,
            "popup_max_height": null,
            "popup_max_width": 300,
            "popup_min_width": 50,
            "show_loading": false,
            "subitems": [],
            "tile_size": 256,
            "tms": false,
            "url": "https://earthengine.googleapis.com/v1alpha/projects/earthengine-legacy/maps/9754b7933fdd7322f30ce897617bf8d7-9828d8863d73886f147292c9a7a594d5/tiles/{z}/{x}/{y}",
            "visible": true,
            "zoom_offset": 0
          }
        },
        "139d5a6ed7124438922085617c7e03c6": {
          "model_module": "jupyter-leaflet",
          "model_name": "LeafletWidgetControlModel",
          "model_module_version": "^0.17",
          "state": {
            "_model_module": "jupyter-leaflet",
            "_model_module_version": "^0.17",
            "_model_name": "LeafletWidgetControlModel",
            "_view_count": null,
            "_view_module": "jupyter-leaflet",
            "_view_module_version": "^0.17",
            "_view_name": "LeafletWidgetControlView",
            "max_height": null,
            "max_width": null,
            "min_height": null,
            "min_width": null,
            "options": [
              "position",
              "transparent_bg"
            ],
            "position": "bottomright",
            "transparent_bg": false,
            "widget": "IPY_MODEL_07664e117eea49db82c8f38f0c157a1e"
          }
        },
        "07664e117eea49db82c8f38f0c157a1e": {
          "model_module": "@jupyter-widgets/output",
          "model_name": "OutputModel",
          "model_module_version": "1.0.0",
          "state": {
            "_dom_classes": [],
            "_model_module": "@jupyter-widgets/output",
            "_model_module_version": "1.0.0",
            "_model_name": "OutputModel",
            "_view_count": null,
            "_view_module": "@jupyter-widgets/output",
            "_view_module_version": "1.0.0",
            "_view_name": "OutputView",
            "layout": "IPY_MODEL_b20a975f0fbe4186b8ccd22a24281f72",
            "msg_id": "",
            "outputs": [
              {
                "output_type": "display_data",
                "data": {
                  "text/plain": "HTML(value=\"<html>\\n<body>\\n  <div class='my-legend'>\\n  <div class='legend-title'>Legend</div>\\n  <div class=…",
                  "application/vnd.jupyter.widget-view+json": {
                    "version_major": 2,
                    "version_minor": 0,
                    "model_id": "97bfdd2169e7418eaed54fdb35f404db"
                  }
                },
                "metadata": {
                  "application/vnd.jupyter.widget-view+json": {
                    "colab": {
                      "custom_widget_manager": {
                        "url": "https://ssl.gstatic.com/colaboratory-static/widgets/colab-cdn-widget-manager/b3e629b1971e1542/manager.min.js"
                      }
                    }
                  }
                }
              }
            ]
          }
        },
        "b20a975f0fbe4186b8ccd22a24281f72": {
          "model_module": "@jupyter-widgets/base",
          "model_name": "LayoutModel",
          "model_module_version": "1.2.0",
          "state": {
            "_model_module": "@jupyter-widgets/base",
            "_model_module_version": "1.2.0",
            "_model_name": "LayoutModel",
            "_view_count": null,
            "_view_module": "@jupyter-widgets/base",
            "_view_module_version": "1.2.0",
            "_view_name": "LayoutView",
            "align_content": null,
            "align_items": null,
            "align_self": null,
            "border": null,
            "bottom": null,
            "display": null,
            "flex": null,
            "flex_flow": null,
            "grid_area": null,
            "grid_auto_columns": null,
            "grid_auto_flow": null,
            "grid_auto_rows": null,
            "grid_column": null,
            "grid_gap": null,
            "grid_row": null,
            "grid_template_areas": null,
            "grid_template_columns": null,
            "grid_template_rows": null,
            "height": null,
            "justify_content": null,
            "justify_items": null,
            "left": null,
            "margin": null,
            "max_height": "400px",
            "max_width": "300px",
            "min_height": null,
            "min_width": null,
            "object_fit": null,
            "object_position": null,
            "order": null,
            "overflow": "scroll",
            "overflow_x": null,
            "overflow_y": null,
            "padding": null,
            "right": null,
            "top": null,
            "visibility": null,
            "width": null
          }
        },
        "97bfdd2169e7418eaed54fdb35f404db": {
          "model_module": "@jupyter-widgets/controls",
          "model_name": "HTMLModel",
          "model_module_version": "1.5.0",
          "state": {
            "_dom_classes": [],
            "_model_module": "@jupyter-widgets/controls",
            "_model_module_version": "1.5.0",
            "_model_name": "HTMLModel",
            "_view_count": null,
            "_view_module": "@jupyter-widgets/controls",
            "_view_module_version": "1.5.0",
            "_view_name": "HTMLView",
            "description": "",
            "description_tooltip": null,
            "layout": "IPY_MODEL_25fa2caf2e724adf959d82b25b7913ec",
            "placeholder": "​",
            "style": "IPY_MODEL_f79aa9ea673046529d2c7315972ed5ad",
            "value": "<html>\n<body>\n  <div class='my-legend'>\n  <div class='legend-title'>Legend</div>\n  <div class='legend-scale'>\n    <ul class='legend-labels'>\n      <li><span style='background:#282828;'></span>0 Unknown</li>\n      <li><span style='background:#FFBB22;'></span>20 Shrubs. Woody perennial plants with persistent and woody stems and without any defined main stem being less than 5 m tall. The shrub foliage can be either evergreen or deciduous.</li>\n      <li><span style='background:#FFFF4C;'></span>30 Herbaceous vegetation. Plants without persistent stem or shoots above ground and lacking definite firm structure. Tree and shrub cover is less than 10 %.</li>\n      <li><span style='background:#F096FF;'></span>40 Cultivated and managed vegetation / agriculture. Lands covered with temporary crops followed by harvest and a bare soil period (e.g., single and multiple cropping systems). Note that perennial woody crops will be classified as the appropriate forest or shrub land cover type.</li>\n      <li><span style='background:#FA0000;'></span>50 Urban / built up. Land covered by buildings and other man-made structures.</li>\n      <li><span style='background:#B4B4B4;'></span>60 Bare / sparse vegetation. Lands with exposed soil, sand, or rocks and never has more than 10 % vegetated cover during any time of the year.</li>\n      <li><span style='background:#F0F0F0;'></span>70 Snow and ice. Lands under snow or ice cover throughout the year.</li>\n      <li><span style='background:#0032C8;'></span>80 Permanent water bodies. Lakes, reservoirs, and rivers. Can be either fresh or salt-water bodies.</li>\n      <li><span style='background:#0096A0;'></span>90 Herbaceous wetland. Lands with a permanent mixture of water and herbaceous or woody vegetation. The vegetation can be present in either salt, brackish, or fresh water.</li>\n      <li><span style='background:#FAE6A0;'></span>100 Moss and lichen.</li>\n      <li><span style='background:#58481F;'></span>111 Closed forest, evergreen needle leaf. Tree canopy >70 %, almost all needle leaf trees remain green all year. Canopy is never without green foliage.</li>\n      <li><span style='background:#009900;'></span>112 Closed forest, evergreen broad leaf. Tree canopy >70 %, almost all broadleaf trees remain green year round. Canopy is never without green foliage.</li>\n      <li><span style='background:#70663E;'></span>113 Closed forest, deciduous needle leaf. Tree canopy >70 %, consists of seasonal needle leaf tree communities with an annual cycle of leaf-on and leaf-off periods.</li>\n      <li><span style='background:#00CC00;'></span>114 Closed forest, deciduous broad leaf. Tree canopy >70 %, consists of seasonal broadleaf tree communities with an annual cycle of leaf-on and leaf-off periods.</li>\n      <li><span style='background:#4E751F;'></span>115 Closed forest, mixed.</li>\n      <li><span style='background:#007800;'></span>116 Closed forest, not matching any of the other definitions.</li>\n      <li><span style='background:#666000;'></span>121 Open forest, evergreen needle leaf. Top layer- trees 15-70 % and second layer- mixed of shrubs and grassland, almost all needle leaf trees remain green all year. Canopy is never without green foliage.</li>\n      <li><span style='background:#8DB400;'></span>122 Open forest, evergreen broad leaf. Top layer- trees 15-70 % and second layer- mixed of shrubs and grassland, almost all broadleaf trees remain green year round. Canopy is never without green foliage.</li>\n      <li><span style='background:#8D7400;'></span>123 Open forest, deciduous needle leaf. Top layer- trees 15-70 % and second layer- mixed of shrubs and grassland, consists of seasonal needle leaf tree communities with an annual cycle of leaf-on and leaf-off periods.</li>\n      <li><span style='background:#A0DC00;'></span>124 Open forest, deciduous broad leaf. Top layer- trees 15-70 % and second layer- mixed of shrubs and grassland, consists of seasonal broadleaf tree communities with an annual cycle of leaf-on and leaf-off periods.</li>\n      <li><span style='background:#929900;'></span>125 Open forest, mixed.</li>\n      <li><span style='background:#648C00;'></span>126 Open forest, not matching any of the other definitions.</li>\n      <li><span style='background:#000080;'></span>200 Oceans, seas. Can be either fresh or salt-water bodies.</li>\n    </ul>\n  </div>\n  </div>\n\n  <style type='text/css'>\n    .my-legend .legend-title {\n      text-align: left;\n      margin-bottom: 2px;\n      margin-left: 2px;\n      font-weight: bold;\n      font-size: 90%;\n      }\n    .my-legend .legend-scale ul {\n      margin: 0;\n      margin-bottom: 5px;\n      padding: 0;\n      float: left;\n      list-style: none;\n      }\n    .my-legend .legend-scale ul li {\n      font-size: 80%;\n      list-style: none;\n      margin-left: 1px;\n      line-height: 18px;\n      margin-bottom: 2px;\n      }\n    .my-legend ul.legend-labels li span {\n      display: block;\n      float: left;\n      height: 16px;\n      width: 30px;\n      margin-right: 5px;\n      margin-left: 2px;\n      border: 1px solid #999;\n      }\n    .my-legend .legend-source {\n      font-size: 70%;\n      color: #999;\n      clear: both;\n      }\n    .my-legend a {\n      color: #777;\n      }\n  </style>\n</body>\n</html>\n"
          }
        },
        "25fa2caf2e724adf959d82b25b7913ec": {
          "model_module": "@jupyter-widgets/base",
          "model_name": "LayoutModel",
          "model_module_version": "1.2.0",
          "state": {
            "_model_module": "@jupyter-widgets/base",
            "_model_module_version": "1.2.0",
            "_model_name": "LayoutModel",
            "_view_count": null,
            "_view_module": "@jupyter-widgets/base",
            "_view_module_version": "1.2.0",
            "_view_name": "LayoutView",
            "align_content": null,
            "align_items": null,
            "align_self": null,
            "border": null,
            "bottom": null,
            "display": null,
            "flex": null,
            "flex_flow": null,
            "grid_area": null,
            "grid_auto_columns": null,
            "grid_auto_flow": null,
            "grid_auto_rows": null,
            "grid_column": null,
            "grid_gap": null,
            "grid_row": null,
            "grid_template_areas": null,
            "grid_template_columns": null,
            "grid_template_rows": null,
            "height": null,
            "justify_content": null,
            "justify_items": null,
            "left": null,
            "margin": null,
            "max_height": null,
            "max_width": null,
            "min_height": null,
            "min_width": null,
            "object_fit": null,
            "object_position": null,
            "order": null,
            "overflow": null,
            "overflow_x": null,
            "overflow_y": null,
            "padding": null,
            "right": null,
            "top": null,
            "visibility": null,
            "width": null
          }
        },
        "f79aa9ea673046529d2c7315972ed5ad": {
          "model_module": "@jupyter-widgets/controls",
          "model_name": "DescriptionStyleModel",
          "model_module_version": "1.5.0",
          "state": {
            "_model_module": "@jupyter-widgets/controls",
            "_model_module_version": "1.5.0",
            "_model_name": "DescriptionStyleModel",
            "_view_count": null,
            "_view_module": "@jupyter-widgets/base",
            "_view_module_version": "1.2.0",
            "_view_name": "StyleView",
            "description_width": ""
          }
        },
        "2a4008609a0d42b2a61649b90b175432": {
          "model_module": "@jupyter-widgets/controls",
          "model_name": "BoxModel",
          "model_module_version": "1.5.0",
          "state": {
            "_dom_classes": [],
            "_model_module": "@jupyter-widgets/controls",
            "_model_module_version": "1.5.0",
            "_model_name": "BoxModel",
            "_view_count": null,
            "_view_module": "@jupyter-widgets/controls",
            "_view_module_version": "1.5.0",
            "_view_name": "BoxView",
            "box_style": "",
            "children": [
              "IPY_MODEL_f3cc9a4bb70243c096f4f84e28657cfe"
            ],
            "layout": "IPY_MODEL_c0c11280564c4a80b2c1662fce316cd3"
          }
        },
        "f3cc9a4bb70243c096f4f84e28657cfe": {
          "model_module": "@jupyter-widgets/controls",
          "model_name": "FloatSliderModel",
          "model_module_version": "1.5.0",
          "state": {
            "_dom_classes": [],
            "_model_module": "@jupyter-widgets/controls",
            "_model_module_version": "1.5.0",
            "_model_name": "FloatSliderModel",
            "_view_count": null,
            "_view_module": "@jupyter-widgets/controls",
            "_view_module_version": "1.5.0",
            "_view_name": "FloatSliderView",
            "continuous_update": true,
            "description": "opacity",
            "description_tooltip": null,
            "disabled": false,
            "layout": "IPY_MODEL_bc8bf50c44fe4088b2f10e43ee5061f2",
            "max": 1,
            "min": 0,
            "orientation": "horizontal",
            "readout": true,
            "readout_format": ".2f",
            "step": 0.1,
            "style": "IPY_MODEL_426b968dca3a413692b4d6d8d25ac6e6",
            "value": 0.1
          }
        },
        "c0c11280564c4a80b2c1662fce316cd3": {
          "model_module": "@jupyter-widgets/base",
          "model_name": "LayoutModel",
          "model_module_version": "1.2.0",
          "state": {
            "_model_module": "@jupyter-widgets/base",
            "_model_module_version": "1.2.0",
            "_model_name": "LayoutModel",
            "_view_count": null,
            "_view_module": "@jupyter-widgets/base",
            "_view_module_version": "1.2.0",
            "_view_name": "LayoutView",
            "align_content": null,
            "align_items": null,
            "align_self": null,
            "border": null,
            "bottom": null,
            "display": null,
            "flex": null,
            "flex_flow": null,
            "grid_area": null,
            "grid_auto_columns": null,
            "grid_auto_flow": null,
            "grid_auto_rows": null,
            "grid_column": null,
            "grid_gap": null,
            "grid_row": null,
            "grid_template_areas": null,
            "grid_template_columns": null,
            "grid_template_rows": null,
            "height": null,
            "justify_content": null,
            "justify_items": null,
            "left": null,
            "margin": null,
            "max_height": null,
            "max_width": null,
            "min_height": null,
            "min_width": null,
            "object_fit": null,
            "object_position": null,
            "order": null,
            "overflow": null,
            "overflow_x": null,
            "overflow_y": null,
            "padding": null,
            "right": null,
            "top": null,
            "visibility": null,
            "width": null
          }
        },
        "bc8bf50c44fe4088b2f10e43ee5061f2": {
          "model_module": "@jupyter-widgets/base",
          "model_name": "LayoutModel",
          "model_module_version": "1.2.0",
          "state": {
            "_model_module": "@jupyter-widgets/base",
            "_model_module_version": "1.2.0",
            "_model_name": "LayoutModel",
            "_view_count": null,
            "_view_module": "@jupyter-widgets/base",
            "_view_module_version": "1.2.0",
            "_view_name": "LayoutView",
            "align_content": null,
            "align_items": null,
            "align_self": null,
            "border": null,
            "bottom": null,
            "display": null,
            "flex": null,
            "flex_flow": null,
            "grid_area": null,
            "grid_auto_columns": null,
            "grid_auto_flow": null,
            "grid_auto_rows": null,
            "grid_column": null,
            "grid_gap": null,
            "grid_row": null,
            "grid_template_areas": null,
            "grid_template_columns": null,
            "grid_template_rows": null,
            "height": null,
            "justify_content": null,
            "justify_items": null,
            "left": null,
            "margin": null,
            "max_height": null,
            "max_width": null,
            "min_height": null,
            "min_width": null,
            "object_fit": null,
            "object_position": null,
            "order": null,
            "overflow": null,
            "overflow_x": null,
            "overflow_y": null,
            "padding": null,
            "right": null,
            "top": null,
            "visibility": null,
            "width": null
          }
        },
        "426b968dca3a413692b4d6d8d25ac6e6": {
          "model_module": "@jupyter-widgets/controls",
          "model_name": "SliderStyleModel",
          "model_module_version": "1.5.0",
          "state": {
            "_model_module": "@jupyter-widgets/controls",
            "_model_module_version": "1.5.0",
            "_model_name": "SliderStyleModel",
            "_view_count": null,
            "_view_module": "@jupyter-widgets/base",
            "_view_module_version": "1.2.0",
            "_view_name": "StyleView",
            "description_width": "",
            "handle_color": null
          }
        }
      }
    }
  },
  "cells": [
    {
      "cell_type": "code",
      "metadata": {
        "id": "yFuoQQyFTL7K",
        "colab": {
          "base_uri": "https://localhost:8080/"
        },
        "outputId": "b0ecb243-27f3-4e3b-c3cf-6dd793ca81e1"
      },
      "source": [
        "pip install geemap\n"
      ],
      "execution_count": 4,
      "outputs": [
        {
          "output_type": "stream",
          "name": "stdout",
          "text": [
            "Looking in indexes: https://pypi.org/simple, https://us-python.pkg.dev/colab-wheels/public/simple/\n",
            "Collecting geemap\n",
            "  Downloading geemap-0.20.6-py2.py3-none-any.whl (2.2 MB)\n",
            "\u001b[2K     \u001b[90m━━━━━━━━━━━━━━━━━━━━━━━━━━━━━━━━━━━━━━━━\u001b[0m \u001b[32m2.2/2.2 MB\u001b[0m \u001b[31m29.5 MB/s\u001b[0m eta \u001b[36m0:00:00\u001b[0m\n",
            "\u001b[?25hRequirement already satisfied: pandas in /usr/local/lib/python3.9/dist-packages (from geemap) (1.5.3)\n",
            "Requirement already satisfied: earthengine-api>=0.1.347 in /usr/local/lib/python3.9/dist-packages (from geemap) (0.1.349)\n",
            "Collecting colour\n",
            "  Downloading colour-0.1.5-py2.py3-none-any.whl (23 kB)\n",
            "Collecting ipytree\n",
            "  Downloading ipytree-0.2.2-py2.py3-none-any.whl (1.3 MB)\n",
            "\u001b[2K     \u001b[90m━━━━━━━━━━━━━━━━━━━━━━━━━━━━━━━━━━━━━━━━\u001b[0m \u001b[32m1.3/1.3 MB\u001b[0m \u001b[31m54.0 MB/s\u001b[0m eta \u001b[36m0:00:00\u001b[0m\n",
            "\u001b[?25hCollecting geocoder\n",
            "  Downloading geocoder-1.38.1-py2.py3-none-any.whl (98 kB)\n",
            "\u001b[2K     \u001b[90m━━━━━━━━━━━━━━━━━━━━━━━━━━━━━━━━━━━━━━━━\u001b[0m \u001b[32m98.6/98.6 kB\u001b[0m \u001b[31m12.3 MB/s\u001b[0m eta \u001b[36m0:00:00\u001b[0m\n",
            "\u001b[?25hCollecting python-box\n",
            "  Downloading python_box-7.0.1-cp39-cp39-manylinux_2_5_x86_64.manylinux1_x86_64.manylinux_2_12_x86_64.manylinux2010_x86_64.whl (3.2 MB)\n",
            "\u001b[2K     \u001b[90m━━━━━━━━━━━━━━━━━━━━━━━━━━━━━━━━━━━━━━━━\u001b[0m \u001b[32m3.2/3.2 MB\u001b[0m \u001b[31m55.3 MB/s\u001b[0m eta \u001b[36m0:00:00\u001b[0m\n",
            "\u001b[?25hCollecting eerepr>=0.0.4\n",
            "  Downloading eerepr-0.0.4-py3-none-any.whl (9.7 kB)\n",
            "Collecting pyperclip\n",
            "  Downloading pyperclip-1.8.2.tar.gz (20 kB)\n",
            "  Preparing metadata (setup.py) ... \u001b[?25l\u001b[?25hdone\n",
            "Requirement already satisfied: plotly in /usr/local/lib/python3.9/dist-packages (from geemap) (5.13.1)\n",
            "Requirement already satisfied: folium>=0.13.0 in /usr/local/lib/python3.9/dist-packages (from geemap) (0.14.0)\n",
            "Collecting ipyevents\n",
            "  Downloading ipyevents-2.0.1-py2.py3-none-any.whl (130 kB)\n",
            "\u001b[2K     \u001b[90m━━━━━━━━━━━━━━━━━━━━━━━━━━━━━━━━━━━━━━\u001b[0m \u001b[32m130.5/130.5 kB\u001b[0m \u001b[31m13.8 MB/s\u001b[0m eta \u001b[36m0:00:00\u001b[0m\n",
            "\u001b[?25hCollecting ipyleaflet>=0.17.0\n",
            "  Downloading ipyleaflet-0.17.2-py3-none-any.whl (3.7 MB)\n",
            "\u001b[2K     \u001b[90m━━━━━━━━━━━━━━━━━━━━━━━━━━━━━━━━━━━━━━━━\u001b[0m \u001b[32m3.7/3.7 MB\u001b[0m \u001b[31m69.1 MB/s\u001b[0m eta \u001b[36m0:00:00\u001b[0m\n",
            "\u001b[?25hRequirement already satisfied: matplotlib in /usr/local/lib/python3.9/dist-packages (from geemap) (3.7.1)\n",
            "Collecting scooby\n",
            "  Downloading scooby-0.7.1-py3-none-any.whl (16 kB)\n",
            "Collecting ipyfilechooser>=0.6.0\n",
            "  Downloading ipyfilechooser-0.6.0-py3-none-any.whl (11 kB)\n",
            "Requirement already satisfied: numpy in /usr/local/lib/python3.9/dist-packages (from geemap) (1.22.4)\n",
            "Collecting bqplot\n",
            "  Downloading bqplot-0.12.39-py2.py3-none-any.whl (1.2 MB)\n",
            "\u001b[2K     \u001b[90m━━━━━━━━━━━━━━━━━━━━━━━━━━━━━━━━━━━━━━━━\u001b[0m \u001b[32m1.2/1.2 MB\u001b[0m \u001b[31m48.4 MB/s\u001b[0m eta \u001b[36m0:00:00\u001b[0m\n",
            "\u001b[?25hRequirement already satisfied: requests in /usr/local/lib/python3.9/dist-packages (from earthengine-api>=0.1.347->geemap) (2.27.1)\n",
            "Requirement already satisfied: google-api-python-client>=1.12.1 in /usr/local/lib/python3.9/dist-packages (from earthengine-api>=0.1.347->geemap) (2.84.0)\n",
            "Requirement already satisfied: google-auth-httplib2>=0.0.3 in /usr/local/lib/python3.9/dist-packages (from earthengine-api>=0.1.347->geemap) (0.1.0)\n",
            "Requirement already satisfied: httplib2<1dev,>=0.9.2 in /usr/local/lib/python3.9/dist-packages (from earthengine-api>=0.1.347->geemap) (0.21.0)\n",
            "Requirement already satisfied: google-cloud-storage in /usr/local/lib/python3.9/dist-packages (from earthengine-api>=0.1.347->geemap) (2.8.0)\n",
            "Requirement already satisfied: google-auth>=1.4.1 in /usr/local/lib/python3.9/dist-packages (from earthengine-api>=0.1.347->geemap) (2.17.3)\n",
            "Requirement already satisfied: jinja2>=2.9 in /usr/local/lib/python3.9/dist-packages (from folium>=0.13.0->geemap) (3.1.2)\n",
            "Requirement already satisfied: branca>=0.6.0 in /usr/local/lib/python3.9/dist-packages (from folium>=0.13.0->geemap) (0.6.0)\n",
            "Requirement already satisfied: ipywidgets in /usr/local/lib/python3.9/dist-packages (from ipyfilechooser>=0.6.0->geemap) (7.7.1)\n",
            "Collecting traittypes<3,>=0.2.1\n",
            "  Downloading traittypes-0.2.1-py2.py3-none-any.whl (8.6 kB)\n",
            "Collecting xyzservices>=2021.8.1\n",
            "  Downloading xyzservices-2023.2.0-py3-none-any.whl (55 kB)\n",
            "\u001b[2K     \u001b[90m━━━━━━━━━━━━━━━━━━━━━━━━━━━━━━━━━━━━━━━━\u001b[0m \u001b[32m55.4/55.4 kB\u001b[0m \u001b[31m6.4 MB/s\u001b[0m eta \u001b[36m0:00:00\u001b[0m\n",
            "\u001b[?25hRequirement already satisfied: traitlets>=4.3.0 in /usr/local/lib/python3.9/dist-packages (from bqplot->geemap) (5.7.1)\n",
            "Requirement already satisfied: python-dateutil>=2.8.1 in /usr/local/lib/python3.9/dist-packages (from pandas->geemap) (2.8.2)\n",
            "Requirement already satisfied: pytz>=2020.1 in /usr/local/lib/python3.9/dist-packages (from pandas->geemap) (2022.7.1)\n",
            "Requirement already satisfied: six in /usr/local/lib/python3.9/dist-packages (from geocoder->geemap) (1.16.0)\n",
            "Requirement already satisfied: future in /usr/local/lib/python3.9/dist-packages (from geocoder->geemap) (0.18.3)\n",
            "Requirement already satisfied: click in /usr/local/lib/python3.9/dist-packages (from geocoder->geemap) (8.1.3)\n",
            "Collecting ratelim\n",
            "  Downloading ratelim-0.1.6-py2.py3-none-any.whl (4.0 kB)\n",
            "Requirement already satisfied: kiwisolver>=1.0.1 in /usr/local/lib/python3.9/dist-packages (from matplotlib->geemap) (1.4.4)\n",
            "Requirement already satisfied: pyparsing>=2.3.1 in /usr/local/lib/python3.9/dist-packages (from matplotlib->geemap) (3.0.9)\n",
            "Requirement already satisfied: packaging>=20.0 in /usr/local/lib/python3.9/dist-packages (from matplotlib->geemap) (23.1)\n",
            "Requirement already satisfied: importlib-resources>=3.2.0 in /usr/local/lib/python3.9/dist-packages (from matplotlib->geemap) (5.12.0)\n",
            "Requirement already satisfied: fonttools>=4.22.0 in /usr/local/lib/python3.9/dist-packages (from matplotlib->geemap) (4.39.3)\n",
            "Requirement already satisfied: cycler>=0.10 in /usr/local/lib/python3.9/dist-packages (from matplotlib->geemap) (0.11.0)\n",
            "Requirement already satisfied: pillow>=6.2.0 in /usr/local/lib/python3.9/dist-packages (from matplotlib->geemap) (8.4.0)\n",
            "Requirement already satisfied: contourpy>=1.0.1 in /usr/local/lib/python3.9/dist-packages (from matplotlib->geemap) (1.0.7)\n",
            "Requirement already satisfied: tenacity>=6.2.0 in /usr/local/lib/python3.9/dist-packages (from plotly->geemap) (8.2.2)\n",
            "Requirement already satisfied: google-api-core!=2.0.*,!=2.1.*,!=2.2.*,!=2.3.0,<3.0.0dev,>=1.31.5 in /usr/local/lib/python3.9/dist-packages (from google-api-python-client>=1.12.1->earthengine-api>=0.1.347->geemap) (2.11.0)\n",
            "Requirement already satisfied: uritemplate<5,>=3.0.1 in /usr/local/lib/python3.9/dist-packages (from google-api-python-client>=1.12.1->earthengine-api>=0.1.347->geemap) (4.1.1)\n",
            "Requirement already satisfied: cachetools<6.0,>=2.0.0 in /usr/local/lib/python3.9/dist-packages (from google-auth>=1.4.1->earthengine-api>=0.1.347->geemap) (5.3.0)\n",
            "Requirement already satisfied: pyasn1-modules>=0.2.1 in /usr/local/lib/python3.9/dist-packages (from google-auth>=1.4.1->earthengine-api>=0.1.347->geemap) (0.2.8)\n",
            "Requirement already satisfied: rsa<5,>=3.1.4 in /usr/local/lib/python3.9/dist-packages (from google-auth>=1.4.1->earthengine-api>=0.1.347->geemap) (4.9)\n",
            "Requirement already satisfied: zipp>=3.1.0 in /usr/local/lib/python3.9/dist-packages (from importlib-resources>=3.2.0->matplotlib->geemap) (3.15.0)\n",
            "Requirement already satisfied: widgetsnbextension~=3.6.0 in /usr/local/lib/python3.9/dist-packages (from ipywidgets->ipyfilechooser>=0.6.0->geemap) (3.6.4)\n",
            "Requirement already satisfied: ipython>=4.0.0 in /usr/local/lib/python3.9/dist-packages (from ipywidgets->ipyfilechooser>=0.6.0->geemap) (7.34.0)\n",
            "Requirement already satisfied: jupyterlab-widgets>=1.0.0 in /usr/local/lib/python3.9/dist-packages (from ipywidgets->ipyfilechooser>=0.6.0->geemap) (3.0.7)\n",
            "Requirement already satisfied: ipykernel>=4.5.1 in /usr/local/lib/python3.9/dist-packages (from ipywidgets->ipyfilechooser>=0.6.0->geemap) (5.5.6)\n",
            "Requirement already satisfied: ipython-genutils~=0.2.0 in /usr/local/lib/python3.9/dist-packages (from ipywidgets->ipyfilechooser>=0.6.0->geemap) (0.2.0)\n",
            "Requirement already satisfied: MarkupSafe>=2.0 in /usr/local/lib/python3.9/dist-packages (from jinja2>=2.9->folium>=0.13.0->geemap) (2.1.2)\n",
            "Requirement already satisfied: google-cloud-core<3.0dev,>=2.3.0 in /usr/local/lib/python3.9/dist-packages (from google-cloud-storage->earthengine-api>=0.1.347->geemap) (2.3.2)\n",
            "Requirement already satisfied: google-resumable-media>=2.3.2 in /usr/local/lib/python3.9/dist-packages (from google-cloud-storage->earthengine-api>=0.1.347->geemap) (2.4.1)\n",
            "Requirement already satisfied: idna<4,>=2.5 in /usr/local/lib/python3.9/dist-packages (from requests->earthengine-api>=0.1.347->geemap) (3.4)\n",
            "Requirement already satisfied: urllib3<1.27,>=1.21.1 in /usr/local/lib/python3.9/dist-packages (from requests->earthengine-api>=0.1.347->geemap) (1.26.15)\n",
            "Requirement already satisfied: certifi>=2017.4.17 in /usr/local/lib/python3.9/dist-packages (from requests->earthengine-api>=0.1.347->geemap) (2022.12.7)\n",
            "Requirement already satisfied: charset-normalizer~=2.0.0 in /usr/local/lib/python3.9/dist-packages (from requests->earthengine-api>=0.1.347->geemap) (2.0.12)\n",
            "Requirement already satisfied: decorator in /usr/local/lib/python3.9/dist-packages (from ratelim->geocoder->geemap) (4.4.2)\n",
            "Requirement already satisfied: googleapis-common-protos<2.0dev,>=1.56.2 in /usr/local/lib/python3.9/dist-packages (from google-api-core!=2.0.*,!=2.1.*,!=2.2.*,!=2.3.0,<3.0.0dev,>=1.31.5->google-api-python-client>=1.12.1->earthengine-api>=0.1.347->geemap) (1.59.0)\n",
            "Requirement already satisfied: protobuf!=3.20.0,!=3.20.1,!=4.21.0,!=4.21.1,!=4.21.2,!=4.21.3,!=4.21.4,!=4.21.5,<5.0.0dev,>=3.19.5 in /usr/local/lib/python3.9/dist-packages (from google-api-core!=2.0.*,!=2.1.*,!=2.2.*,!=2.3.0,<3.0.0dev,>=1.31.5->google-api-python-client>=1.12.1->earthengine-api>=0.1.347->geemap) (3.20.3)\n",
            "Requirement already satisfied: google-crc32c<2.0dev,>=1.0 in /usr/local/lib/python3.9/dist-packages (from google-resumable-media>=2.3.2->google-cloud-storage->earthengine-api>=0.1.347->geemap) (1.5.0)\n",
            "Requirement already satisfied: tornado>=4.2 in /usr/local/lib/python3.9/dist-packages (from ipykernel>=4.5.1->ipywidgets->ipyfilechooser>=0.6.0->geemap) (6.2)\n",
            "Requirement already satisfied: jupyter-client in /usr/local/lib/python3.9/dist-packages (from ipykernel>=4.5.1->ipywidgets->ipyfilechooser>=0.6.0->geemap) (6.1.12)\n",
            "Collecting jedi>=0.16\n",
            "  Downloading jedi-0.18.2-py2.py3-none-any.whl (1.6 MB)\n",
            "\u001b[2K     \u001b[90m━━━━━━━━━━━━━━━━━━━━━━━━━━━━━━━━━━━━━━━━\u001b[0m \u001b[32m1.6/1.6 MB\u001b[0m \u001b[31m62.2 MB/s\u001b[0m eta \u001b[36m0:00:00\u001b[0m\n",
            "\u001b[?25hRequirement already satisfied: matplotlib-inline in /usr/local/lib/python3.9/dist-packages (from ipython>=4.0.0->ipywidgets->ipyfilechooser>=0.6.0->geemap) (0.1.6)\n",
            "Requirement already satisfied: backcall in /usr/local/lib/python3.9/dist-packages (from ipython>=4.0.0->ipywidgets->ipyfilechooser>=0.6.0->geemap) (0.2.0)\n",
            "Requirement already satisfied: pickleshare in /usr/local/lib/python3.9/dist-packages (from ipython>=4.0.0->ipywidgets->ipyfilechooser>=0.6.0->geemap) (0.7.5)\n",
            "Requirement already satisfied: pexpect>4.3 in /usr/local/lib/python3.9/dist-packages (from ipython>=4.0.0->ipywidgets->ipyfilechooser>=0.6.0->geemap) (4.8.0)\n",
            "Requirement already satisfied: pygments in /usr/local/lib/python3.9/dist-packages (from ipython>=4.0.0->ipywidgets->ipyfilechooser>=0.6.0->geemap) (2.14.0)\n",
            "Requirement already satisfied: setuptools>=18.5 in /usr/local/lib/python3.9/dist-packages (from ipython>=4.0.0->ipywidgets->ipyfilechooser>=0.6.0->geemap) (67.7.2)\n",
            "Requirement already satisfied: prompt-toolkit!=3.0.0,!=3.0.1,<3.1.0,>=2.0.0 in /usr/local/lib/python3.9/dist-packages (from ipython>=4.0.0->ipywidgets->ipyfilechooser>=0.6.0->geemap) (3.0.38)\n",
            "Requirement already satisfied: pyasn1<0.5.0,>=0.4.6 in /usr/local/lib/python3.9/dist-packages (from pyasn1-modules>=0.2.1->google-auth>=1.4.1->earthengine-api>=0.1.347->geemap) (0.4.8)\n",
            "Requirement already satisfied: notebook>=4.4.1 in /usr/local/lib/python3.9/dist-packages (from widgetsnbextension~=3.6.0->ipywidgets->ipyfilechooser>=0.6.0->geemap) (6.4.8)\n",
            "Requirement already satisfied: parso<0.9.0,>=0.8.0 in /usr/local/lib/python3.9/dist-packages (from jedi>=0.16->ipython>=4.0.0->ipywidgets->ipyfilechooser>=0.6.0->geemap) (0.8.3)\n",
            "Requirement already satisfied: Send2Trash>=1.8.0 in /usr/local/lib/python3.9/dist-packages (from notebook>=4.4.1->widgetsnbextension~=3.6.0->ipywidgets->ipyfilechooser>=0.6.0->geemap) (1.8.0)\n",
            "Requirement already satisfied: terminado>=0.8.3 in /usr/local/lib/python3.9/dist-packages (from notebook>=4.4.1->widgetsnbextension~=3.6.0->ipywidgets->ipyfilechooser>=0.6.0->geemap) (0.17.1)\n",
            "Requirement already satisfied: nest-asyncio>=1.5 in /usr/local/lib/python3.9/dist-packages (from notebook>=4.4.1->widgetsnbextension~=3.6.0->ipywidgets->ipyfilechooser>=0.6.0->geemap) (1.5.6)\n",
            "Requirement already satisfied: jupyter-core>=4.6.1 in /usr/local/lib/python3.9/dist-packages (from notebook>=4.4.1->widgetsnbextension~=3.6.0->ipywidgets->ipyfilechooser>=0.6.0->geemap) (5.3.0)\n",
            "Requirement already satisfied: argon2-cffi in /usr/local/lib/python3.9/dist-packages (from notebook>=4.4.1->widgetsnbextension~=3.6.0->ipywidgets->ipyfilechooser>=0.6.0->geemap) (21.3.0)\n",
            "Requirement already satisfied: nbformat in /usr/local/lib/python3.9/dist-packages (from notebook>=4.4.1->widgetsnbextension~=3.6.0->ipywidgets->ipyfilechooser>=0.6.0->geemap) (5.8.0)\n",
            "Requirement already satisfied: pyzmq>=17 in /usr/local/lib/python3.9/dist-packages (from notebook>=4.4.1->widgetsnbextension~=3.6.0->ipywidgets->ipyfilechooser>=0.6.0->geemap) (23.2.1)\n",
            "Requirement already satisfied: prometheus-client in /usr/local/lib/python3.9/dist-packages (from notebook>=4.4.1->widgetsnbextension~=3.6.0->ipywidgets->ipyfilechooser>=0.6.0->geemap) (0.16.0)\n",
            "Requirement already satisfied: nbconvert in /usr/local/lib/python3.9/dist-packages (from notebook>=4.4.1->widgetsnbextension~=3.6.0->ipywidgets->ipyfilechooser>=0.6.0->geemap) (6.5.4)\n",
            "Requirement already satisfied: ptyprocess>=0.5 in /usr/local/lib/python3.9/dist-packages (from pexpect>4.3->ipython>=4.0.0->ipywidgets->ipyfilechooser>=0.6.0->geemap) (0.7.0)\n",
            "Requirement already satisfied: wcwidth in /usr/local/lib/python3.9/dist-packages (from prompt-toolkit!=3.0.0,!=3.0.1,<3.1.0,>=2.0.0->ipython>=4.0.0->ipywidgets->ipyfilechooser>=0.6.0->geemap) (0.2.6)\n",
            "Requirement already satisfied: platformdirs>=2.5 in /usr/local/lib/python3.9/dist-packages (from jupyter-core>=4.6.1->notebook>=4.4.1->widgetsnbextension~=3.6.0->ipywidgets->ipyfilechooser>=0.6.0->geemap) (3.2.0)\n",
            "Requirement already satisfied: argon2-cffi-bindings in /usr/local/lib/python3.9/dist-packages (from argon2-cffi->notebook>=4.4.1->widgetsnbextension~=3.6.0->ipywidgets->ipyfilechooser>=0.6.0->geemap) (21.2.0)\n",
            "Requirement already satisfied: entrypoints>=0.2.2 in /usr/local/lib/python3.9/dist-packages (from nbconvert->notebook>=4.4.1->widgetsnbextension~=3.6.0->ipywidgets->ipyfilechooser>=0.6.0->geemap) (0.4)\n",
            "Requirement already satisfied: mistune<2,>=0.8.1 in /usr/local/lib/python3.9/dist-packages (from nbconvert->notebook>=4.4.1->widgetsnbextension~=3.6.0->ipywidgets->ipyfilechooser>=0.6.0->geemap) (0.8.4)\n",
            "Requirement already satisfied: lxml in /usr/local/lib/python3.9/dist-packages (from nbconvert->notebook>=4.4.1->widgetsnbextension~=3.6.0->ipywidgets->ipyfilechooser>=0.6.0->geemap) (4.9.2)\n",
            "Requirement already satisfied: beautifulsoup4 in /usr/local/lib/python3.9/dist-packages (from nbconvert->notebook>=4.4.1->widgetsnbextension~=3.6.0->ipywidgets->ipyfilechooser>=0.6.0->geemap) (4.11.2)\n",
            "Requirement already satisfied: nbclient>=0.5.0 in /usr/local/lib/python3.9/dist-packages (from nbconvert->notebook>=4.4.1->widgetsnbextension~=3.6.0->ipywidgets->ipyfilechooser>=0.6.0->geemap) (0.7.3)\n",
            "Requirement already satisfied: bleach in /usr/local/lib/python3.9/dist-packages (from nbconvert->notebook>=4.4.1->widgetsnbextension~=3.6.0->ipywidgets->ipyfilechooser>=0.6.0->geemap) (6.0.0)\n",
            "Requirement already satisfied: defusedxml in /usr/local/lib/python3.9/dist-packages (from nbconvert->notebook>=4.4.1->widgetsnbextension~=3.6.0->ipywidgets->ipyfilechooser>=0.6.0->geemap) (0.7.1)\n",
            "Requirement already satisfied: pandocfilters>=1.4.1 in /usr/local/lib/python3.9/dist-packages (from nbconvert->notebook>=4.4.1->widgetsnbextension~=3.6.0->ipywidgets->ipyfilechooser>=0.6.0->geemap) (1.5.0)\n",
            "Requirement already satisfied: jupyterlab-pygments in /usr/local/lib/python3.9/dist-packages (from nbconvert->notebook>=4.4.1->widgetsnbextension~=3.6.0->ipywidgets->ipyfilechooser>=0.6.0->geemap) (0.2.2)\n",
            "Requirement already satisfied: tinycss2 in /usr/local/lib/python3.9/dist-packages (from nbconvert->notebook>=4.4.1->widgetsnbextension~=3.6.0->ipywidgets->ipyfilechooser>=0.6.0->geemap) (1.2.1)\n",
            "Requirement already satisfied: jsonschema>=2.6 in /usr/local/lib/python3.9/dist-packages (from nbformat->notebook>=4.4.1->widgetsnbextension~=3.6.0->ipywidgets->ipyfilechooser>=0.6.0->geemap) (4.3.3)\n",
            "Requirement already satisfied: fastjsonschema in /usr/local/lib/python3.9/dist-packages (from nbformat->notebook>=4.4.1->widgetsnbextension~=3.6.0->ipywidgets->ipyfilechooser>=0.6.0->geemap) (2.16.3)\n",
            "Requirement already satisfied: attrs>=17.4.0 in /usr/local/lib/python3.9/dist-packages (from jsonschema>=2.6->nbformat->notebook>=4.4.1->widgetsnbextension~=3.6.0->ipywidgets->ipyfilechooser>=0.6.0->geemap) (23.1.0)\n",
            "Requirement already satisfied: pyrsistent!=0.17.0,!=0.17.1,!=0.17.2,>=0.14.0 in /usr/local/lib/python3.9/dist-packages (from jsonschema>=2.6->nbformat->notebook>=4.4.1->widgetsnbextension~=3.6.0->ipywidgets->ipyfilechooser>=0.6.0->geemap) (0.19.3)\n",
            "Requirement already satisfied: cffi>=1.0.1 in /usr/local/lib/python3.9/dist-packages (from argon2-cffi-bindings->argon2-cffi->notebook>=4.4.1->widgetsnbextension~=3.6.0->ipywidgets->ipyfilechooser>=0.6.0->geemap) (1.15.1)\n",
            "Requirement already satisfied: soupsieve>1.2 in /usr/local/lib/python3.9/dist-packages (from beautifulsoup4->nbconvert->notebook>=4.4.1->widgetsnbextension~=3.6.0->ipywidgets->ipyfilechooser>=0.6.0->geemap) (2.4.1)\n",
            "Requirement already satisfied: webencodings in /usr/local/lib/python3.9/dist-packages (from bleach->nbconvert->notebook>=4.4.1->widgetsnbextension~=3.6.0->ipywidgets->ipyfilechooser>=0.6.0->geemap) (0.5.1)\n",
            "Requirement already satisfied: pycparser in /usr/local/lib/python3.9/dist-packages (from cffi>=1.0.1->argon2-cffi-bindings->argon2-cffi->notebook>=4.4.1->widgetsnbextension~=3.6.0->ipywidgets->ipyfilechooser>=0.6.0->geemap) (2.21)\n",
            "Building wheels for collected packages: pyperclip\n",
            "  Building wheel for pyperclip (setup.py) ... \u001b[?25l\u001b[?25hdone\n",
            "  Created wheel for pyperclip: filename=pyperclip-1.8.2-py3-none-any.whl size=11135 sha256=b64a64dd35e5b632061ab707fecd9b69a6b573cdb00d0c4bf6ba7176793abc6c\n",
            "  Stored in directory: /root/.cache/pip/wheels/0c/09/9e/49e21a6840ef7955b06d47394afef0058f0378c0914e48b8b8\n",
            "Successfully built pyperclip\n",
            "Installing collected packages: pyperclip, colour, xyzservices, traittypes, scooby, ratelim, python-box, jedi, geocoder, eerepr, ipytree, ipyleaflet, ipyfilechooser, ipyevents, bqplot, geemap\n",
            "Successfully installed bqplot-0.12.39 colour-0.1.5 eerepr-0.0.4 geemap-0.20.6 geocoder-1.38.1 ipyevents-2.0.1 ipyfilechooser-0.6.0 ipyleaflet-0.17.2 ipytree-0.2.2 jedi-0.18.2 pyperclip-1.8.2 python-box-7.0.1 ratelim-0.1.6 scooby-0.7.1 traittypes-0.2.1 xyzservices-2023.2.0\n"
          ]
        }
      ]
    },
    {
      "cell_type": "code",
      "source": [
        "import ee\n",
        "import geemap"
      ],
      "metadata": {
        "id": "8wD1L-bMtfRe"
      },
      "execution_count": 53,
      "outputs": []
    },
    {
      "cell_type": "code",
      "source": [
        "ee.Authenticate()"
      ],
      "metadata": {
        "colab": {
          "base_uri": "https://localhost:8080/"
        },
        "id": "0KAIExnV_R2J",
        "outputId": "9721b881-d2f2-4b38-ca95-3e0b0a0aec24"
      },
      "execution_count": 6,
      "outputs": [
        {
          "output_type": "stream",
          "name": "stdout",
          "text": [
            "To authorize access needed by Earth Engine, open the following URL in a web browser and follow the instructions. If the web browser does not start automatically, please manually browse the URL below.\n",
            "\n",
            "    https://code.earthengine.google.com/client-auth?scopes=https%3A//www.googleapis.com/auth/earthengine%20https%3A//www.googleapis.com/auth/devstorage.full_control&request_id=yc7LaxAbzHPzzQ4ohMRlWW1vAzOA3PQfY9ClS8F3veU&tc=BLMiFYJFBaBsQc3tvjIa2EZDsU8akAlUuxwDrVZ0oIA&cc=qwOSbVu5sC4gSVJGq0W5Y_taBS_9AvfHWIRwqMXOerE\n",
            "\n",
            "The authorization workflow will generate a code, which you should paste in the box below.\n",
            "Enter verification code: 4/1AVHEtk42lUVcbi6fcgoCvDPAgwDIw6Ys_VfzltXWGmAqOQqWhUSekntpGr4\n",
            "\n",
            "Successfully saved authorization token.\n"
          ]
        }
      ]
    },
    {
      "cell_type": "markdown",
      "source": [
        "# Creating Interactive Map"
      ],
      "metadata": {
        "id": "zDTvlPBZAiC3"
      }
    },
    {
      "cell_type": "code",
      "source": [
        "Map = geemap.Map()\n",
        "Map"
      ],
      "metadata": {
        "colab": {
          "base_uri": "https://localhost:8080/",
          "height": 621,
          "referenced_widgets": [
            "0b0e18b3085d44da8ae2ecd284c463b7",
            "65ed04fba3ea44e6b1e25377d92986fa",
            "2d17b8bc37f8470296497a0dfc9f68a6",
            "e58d781dd2d945aeb1fd84010355ec8e",
            "bcf22a3d319d4ff589051768a4b6c3ab",
            "3dd0c8df447f45c39d9e848dd6ee0d53",
            "ee0b1e704d244a1293de5c113b26550b",
            "0ddf47e1bc0f4494a8a1a900857826a9",
            "d8534ffe54104d0f9210b6e1bb908bf4",
            "9de1d179e52f4b0c84823ab0b13e6f4f",
            "0d0502c7462f42a18256fafc3f36fd82",
            "ae10ceb009dc49bbabcb070d4b2df567",
            "59b93ef578474e3b9cb979266d7bca8f",
            "e5a747f0eb474a16bbec4a44860b1cb8",
            "71669658c82a4c988ff11e548b423509",
            "0df44593171345e38c3ce6ea5383aa63",
            "e5e6ef0a70974197bb0ef8ee987ba961",
            "9cdcdcbc91d14c4289ab15266234d3de",
            "9fb0ed7d0c05419184498340efafb736",
            "2725fec96e5c48dda482268c29f2910e",
            "aa25806a69014aa5bab90c53e441580b",
            "cde8cc450d7e4fefafc1df07167197f8",
            "a4c97d4e151f4570a1f3297972b12cb1",
            "781a0547b0f4477a870e64c19e152e9a",
            "443b6699739248989e54377f36cfe625",
            "501d80ba826b45b7a98a526643d45a81",
            "677c748df9704a8495355b5231b1b361",
            "1788710dd4884b978e907c2c956cae21",
            "1a8a09ec1f944081b6adf38f477875dd",
            "d22beeb6c4df4813a1e255487cee6490",
            "bd65d966e29044dcb795a676c61a60d6",
            "9cc2058334fe4555ad888bf9e82b1517",
            "139d5a6ed7124438922085617c7e03c6",
            "07664e117eea49db82c8f38f0c157a1e",
            "b20a975f0fbe4186b8ccd22a24281f72",
            "97bfdd2169e7418eaed54fdb35f404db",
            "25fa2caf2e724adf959d82b25b7913ec",
            "f79aa9ea673046529d2c7315972ed5ad"
          ]
        },
        "id": "AZt-kMwTAVsO",
        "outputId": "c374af8a-fd60-49d1-bc63-0e9946c84c32"
      },
      "execution_count": 54,
      "outputs": [
        {
          "output_type": "display_data",
          "data": {
            "text/plain": [
              "Map(center=[20, 0], controls=(WidgetControl(options=['position', 'transparent_bg'], widget=HBox(children=(Togg…"
            ],
            "application/vnd.jupyter.widget-view+json": {
              "version_major": 2,
              "version_minor": 0,
              "model_id": "0b0e18b3085d44da8ae2ecd284c463b7"
            }
          },
          "metadata": {
            "application/vnd.jupyter.widget-view+json": {
              "colab": {
                "custom_widget_manager": {
                  "url": "https://ssl.gstatic.com/colaboratory-static/widgets/colab-cdn-widget-manager/b3e629b1971e1542/manager.min.js"
                }
              }
            }
          }
        }
      ]
    },
    {
      "cell_type": "markdown",
      "source": [
        "#Load LANDSAT data"
      ],
      "metadata": {
        "id": "SXFJC9RsAstO"
      }
    },
    {
      "cell_type": "code",
      "source": [
        "point = ee.Geometry.Point([77.5552, 29.9680])\n",
        "\n",
        "\n",
        "image = ee.ImageCollection('LANDSAT/LC08/C01/T1_SR').filterBounds(point).filterDate('2019-01-01', '2019-12-31').sort('CLOUD_COVER').first().select('B[1-7]')\n",
        "\n",
        "band = {\n",
        "    'min': 0,\n",
        "    'max': 3000,\n",
        "    'bands': ['B5', 'B4', 'B3']\n",
        "}\n",
        "\n",
        "Map.centerObject(point, 8)\n",
        "Map.addLayer(image, band, \"Landsat-8\")"
      ],
      "metadata": {
        "id": "oUiM00Ir_1mW"
      },
      "execution_count": 55,
      "outputs": []
    },
    {
      "cell_type": "code",
      "source": [
        "Map.addLayerControl() \n",
        "Map"
      ],
      "metadata": {
        "colab": {
          "base_uri": "https://localhost:8080/",
          "height": 621,
          "referenced_widgets": [
            "0b0e18b3085d44da8ae2ecd284c463b7",
            "65ed04fba3ea44e6b1e25377d92986fa",
            "2d17b8bc37f8470296497a0dfc9f68a6",
            "e58d781dd2d945aeb1fd84010355ec8e",
            "bcf22a3d319d4ff589051768a4b6c3ab",
            "3dd0c8df447f45c39d9e848dd6ee0d53",
            "ee0b1e704d244a1293de5c113b26550b",
            "0ddf47e1bc0f4494a8a1a900857826a9",
            "d8534ffe54104d0f9210b6e1bb908bf4",
            "677c748df9704a8495355b5231b1b361",
            "9de1d179e52f4b0c84823ab0b13e6f4f",
            "0d0502c7462f42a18256fafc3f36fd82",
            "ae10ceb009dc49bbabcb070d4b2df567",
            "59b93ef578474e3b9cb979266d7bca8f",
            "501d80ba826b45b7a98a526643d45a81",
            "e5a747f0eb474a16bbec4a44860b1cb8",
            "0df44593171345e38c3ce6ea5383aa63",
            "e5e6ef0a70974197bb0ef8ee987ba961",
            "9cdcdcbc91d14c4289ab15266234d3de",
            "9fb0ed7d0c05419184498340efafb736",
            "2725fec96e5c48dda482268c29f2910e",
            "aa25806a69014aa5bab90c53e441580b",
            "cde8cc450d7e4fefafc1df07167197f8",
            "a4c97d4e151f4570a1f3297972b12cb1",
            "781a0547b0f4477a870e64c19e152e9a",
            "443b6699739248989e54377f36cfe625",
            "1788710dd4884b978e907c2c956cae21",
            "1a8a09ec1f944081b6adf38f477875dd",
            "d22beeb6c4df4813a1e255487cee6490",
            "bd65d966e29044dcb795a676c61a60d6",
            "9cc2058334fe4555ad888bf9e82b1517",
            "139d5a6ed7124438922085617c7e03c6",
            "07664e117eea49db82c8f38f0c157a1e",
            "b20a975f0fbe4186b8ccd22a24281f72",
            "97bfdd2169e7418eaed54fdb35f404db",
            "25fa2caf2e724adf959d82b25b7913ec",
            "f79aa9ea673046529d2c7315972ed5ad"
          ]
        },
        "id": "TgX6RVN9A4tx",
        "outputId": "4228865b-61f4-499e-e926-72d194cbd612"
      },
      "execution_count": 56,
      "outputs": [
        {
          "output_type": "display_data",
          "data": {
            "text/plain": [
              "Map(bottom=27345.0, center=[29.967999999999993, 77.5552], controls=(WidgetControl(options=['position', 'transp…"
            ],
            "application/vnd.jupyter.widget-view+json": {
              "version_major": 2,
              "version_minor": 0,
              "model_id": "0b0e18b3085d44da8ae2ecd284c463b7"
            }
          },
          "metadata": {
            "application/vnd.jupyter.widget-view+json": {
              "colab": {
                "custom_widget_manager": {
                  "url": "https://ssl.gstatic.com/colaboratory-static/widgets/colab-cdn-widget-manager/b3e629b1971e1542/manager.min.js"
                }
              }
            }
          }
        }
      ]
    },
    {
      "cell_type": "markdown",
      "source": [
        "#View image properties"
      ],
      "metadata": {
        "id": "gIXwYaeIBW0E"
      }
    },
    {
      "cell_type": "code",
      "source": [
        "ee.Date(image.get('system:time_start')).format('YYYY-MM-dd').getInfo()"
      ],
      "metadata": {
        "colab": {
          "base_uri": "https://localhost:8080/",
          "height": 35
        },
        "id": "G68obLPjBQ1S",
        "outputId": "4c4484ee-a1b8-496f-d4b4-7bb4765bec31"
      },
      "execution_count": 57,
      "outputs": [
        {
          "output_type": "execute_result",
          "data": {
            "text/plain": [
              "'2019-05-05'"
            ],
            "application/vnd.google.colaboratory.intrinsic+json": {
              "type": "string"
            }
          },
          "metadata": {},
          "execution_count": 57
        }
      ]
    },
    {
      "cell_type": "code",
      "source": [
        "image.get('CLOUD_COVER').getInfo()"
      ],
      "metadata": {
        "colab": {
          "base_uri": "https://localhost:8080/"
        },
        "id": "sHptwildBYyR",
        "outputId": "4055a05d-5cfb-4f8e-c6b3-65c2af98f184"
      },
      "execution_count": 58,
      "outputs": [
        {
          "output_type": "execute_result",
          "data": {
            "text/plain": [
              "0.03"
            ]
          },
          "metadata": {},
          "execution_count": 58
        }
      ]
    },
    {
      "cell_type": "code",
      "source": [
        "geemap.image_props(image).getInfo()"
      ],
      "metadata": {
        "colab": {
          "base_uri": "https://localhost:8080/"
        },
        "id": "6wLAuFqHtUiw",
        "outputId": "d9db53ec-d1f1-4669-d074-e2331d6e659b"
      },
      "execution_count": 59,
      "outputs": [
        {
          "output_type": "execute_result",
          "data": {
            "text/plain": [
              "{'CLOUD_COVER': 0.03,\n",
              " 'CLOUD_COVER_LAND': 0.03,\n",
              " 'EARTH_SUN_DISTANCE': 1.008482,\n",
              " 'ESPA_VERSION': '2_23_0_1b',\n",
              " 'GEOMETRIC_RMSE_MODEL': 7.995,\n",
              " 'GEOMETRIC_RMSE_MODEL_X': 5.412,\n",
              " 'GEOMETRIC_RMSE_MODEL_Y': 5.885,\n",
              " 'IMAGE_DATE': '2019-05-05',\n",
              " 'IMAGE_QUALITY_OLI': 9,\n",
              " 'IMAGE_QUALITY_TIRS': 9,\n",
              " 'LANDSAT_ID': 'LC08_L1TP_147039_20190505_20190520_01_T1',\n",
              " 'LEVEL1_PRODUCTION_DATE': 1558389798000,\n",
              " 'NOMINAL_SCALE': 30,\n",
              " 'PIXEL_QA_VERSION': 'generate_pixel_qa_1.6.0',\n",
              " 'SATELLITE': 'LANDSAT_8',\n",
              " 'SENSING_TIME': '2019-05-05T05:24:05.4438210Z',\n",
              " 'SOLAR_AZIMUTH_ANGLE': 121.010429,\n",
              " 'SOLAR_ZENITH_ANGLE': 24.148628,\n",
              " 'SR_APP_VERSION': 'LaSRC_1.3.0',\n",
              " 'WRS_PATH': 147,\n",
              " 'WRS_ROW': 39,\n",
              " 'system:asset_size': '656.255422 MB',\n",
              " 'system:band_names': ['B1', 'B2', 'B3', 'B4', 'B5', 'B6', 'B7'],\n",
              " 'system:id': 'LANDSAT/LC08/C01/T1_SR/LC08_147039_20190505',\n",
              " 'system:index': 'LC08_147039_20190505',\n",
              " 'system:time_end': '2019-05-05 05:24:05',\n",
              " 'system:time_start': '2019-05-05 05:24:05',\n",
              " 'system:version': 1563396872621237}"
            ]
          },
          "metadata": {},
          "execution_count": 59
        }
      ]
    },
    {
      "cell_type": "markdown",
      "source": [
        "#Add region of interest"
      ],
      "metadata": {
        "id": "Co8BaTyRBpo2"
      }
    },
    {
      "cell_type": "code",
      "source": [
        "region = Map.user_roi\n",
        "region = ee.Geometry.Rectangle([77.3836429942414, 29.96257092202146, 77.58002360947577, 29.097849875883103])\n",
        "region = ee.Geometry.Point([-122.4439, 37.7538]).buffer(10000)"
      ],
      "metadata": {
        "id": "ixtSdPsvBiUF"
      },
      "execution_count": 60,
      "outputs": []
    },
    {
      "cell_type": "markdown",
      "source": [
        "#Add labels using Copernicus Global Land Cover Layers: CGLS-LC100 collection 3"
      ],
      "metadata": {
        "id": "FzcdjvBeB2tN"
      }
    },
    {
      "cell_type": "code",
      "source": [
        "train = ee.Image(\"COPERNICUS/Landcover/100m/Proba-V-C3/Global/2019\").select('discrete_classification').clip(image.geometry())\n",
        "Map.addLayer(train, {}, \"Land Cover\")\n",
        "Map.setCenter(77.5552, 29.9680, 8)\n",
        "Map"
      ],
      "metadata": {
        "colab": {
          "base_uri": "https://localhost:8080/",
          "height": 621,
          "referenced_widgets": [
            "0b0e18b3085d44da8ae2ecd284c463b7",
            "65ed04fba3ea44e6b1e25377d92986fa",
            "2d17b8bc37f8470296497a0dfc9f68a6",
            "e58d781dd2d945aeb1fd84010355ec8e",
            "bcf22a3d319d4ff589051768a4b6c3ab",
            "3dd0c8df447f45c39d9e848dd6ee0d53",
            "ee0b1e704d244a1293de5c113b26550b",
            "0ddf47e1bc0f4494a8a1a900857826a9",
            "d8534ffe54104d0f9210b6e1bb908bf4",
            "677c748df9704a8495355b5231b1b361",
            "9de1d179e52f4b0c84823ab0b13e6f4f",
            "0d0502c7462f42a18256fafc3f36fd82",
            "ae10ceb009dc49bbabcb070d4b2df567",
            "59b93ef578474e3b9cb979266d7bca8f",
            "501d80ba826b45b7a98a526643d45a81",
            "1a8a09ec1f944081b6adf38f477875dd",
            "e5a747f0eb474a16bbec4a44860b1cb8",
            "0df44593171345e38c3ce6ea5383aa63",
            "e5e6ef0a70974197bb0ef8ee987ba961",
            "9cdcdcbc91d14c4289ab15266234d3de",
            "9fb0ed7d0c05419184498340efafb736",
            "2725fec96e5c48dda482268c29f2910e",
            "aa25806a69014aa5bab90c53e441580b",
            "cde8cc450d7e4fefafc1df07167197f8",
            "a4c97d4e151f4570a1f3297972b12cb1",
            "781a0547b0f4477a870e64c19e152e9a",
            "443b6699739248989e54377f36cfe625",
            "d22beeb6c4df4813a1e255487cee6490",
            "bd65d966e29044dcb795a676c61a60d6",
            "9cc2058334fe4555ad888bf9e82b1517",
            "139d5a6ed7124438922085617c7e03c6",
            "07664e117eea49db82c8f38f0c157a1e",
            "b20a975f0fbe4186b8ccd22a24281f72",
            "97bfdd2169e7418eaed54fdb35f404db",
            "25fa2caf2e724adf959d82b25b7913ec",
            "f79aa9ea673046529d2c7315972ed5ad"
          ]
        },
        "id": "cDbA2CHXByQb",
        "outputId": "1166899d-0741-4364-ddb8-96af4d3c95bd"
      },
      "execution_count": 62,
      "outputs": [
        {
          "output_type": "display_data",
          "data": {
            "text/plain": [
              "Map(bottom=108481.0, center=[29.968, 77.5552], controls=(WidgetControl(options=['position', 'transparent_bg'],…"
            ],
            "application/vnd.jupyter.widget-view+json": {
              "version_major": 2,
              "version_minor": 0,
              "model_id": "0b0e18b3085d44da8ae2ecd284c463b7"
            }
          },
          "metadata": {
            "application/vnd.jupyter.widget-view+json": {
              "colab": {
                "custom_widget_manager": {
                  "url": "https://ssl.gstatic.com/colaboratory-static/widgets/colab-cdn-widget-manager/b3e629b1971e1542/manager.min.js"
                }
              }
            }
          }
        }
      ]
    },
    {
      "cell_type": "code",
      "source": [
        "# Make the training dataset.\n",
        "points = train.sample(**{\n",
        "    'region': image.geometry(),\n",
        "    'scale': 30,\n",
        "    'numPixels': 5000,\n",
        "    'seed': 0,\n",
        "    'geometries': True  # Set this to False to ignore geometries\n",
        "})\n",
        "\n",
        "Map.addLayer(points, {}, 'training', False)"
      ],
      "metadata": {
        "id": "OoBtsYs_CBhl"
      },
      "execution_count": 63,
      "outputs": []
    },
    {
      "cell_type": "code",
      "source": [
        "print(points.size().getInfo())"
      ],
      "metadata": {
        "colab": {
          "base_uri": "https://localhost:8080/"
        },
        "id": "O_vbjjHDCK3o",
        "outputId": "cd071788-fc2a-49a5-ad32-5a08add92272"
      },
      "execution_count": 64,
      "outputs": [
        {
          "output_type": "stream",
          "name": "stdout",
          "text": [
            "5000\n"
          ]
        }
      ]
    },
    {
      "cell_type": "code",
      "source": [
        "print(points.first().getInfo())"
      ],
      "metadata": {
        "colab": {
          "base_uri": "https://localhost:8080/"
        },
        "id": "aZ4y2IbiCQDU",
        "outputId": "6f08d8aa-665e-4d47-f4a6-357e30669dcb"
      },
      "execution_count": 65,
      "outputs": [
        {
          "output_type": "stream",
          "name": "stdout",
          "text": [
            "{'type': 'Feature', 'geometry': {'type': 'Point', 'coordinates': [76.91161068991838, 30.62243572672446]}, 'id': '0', 'properties': {'discrete_classification': 40}}\n"
          ]
        }
      ]
    },
    {
      "cell_type": "markdown",
      "source": [
        "#Train the classifier"
      ],
      "metadata": {
        "id": "TQXhw748CqBE"
      }
    },
    {
      "cell_type": "code",
      "source": [
        "# Use these bands for prediction.\n",
        "bands = ['B1', 'B2', 'B3', 'B4', 'B5', 'B6', 'B7']\n",
        "\n",
        "\n",
        "# This property of the table stores the land cover labels.\n",
        "label = 'discrete_classification'\n",
        "\n",
        "\n",
        "# Overlay the points on the imagery to get training.\n",
        "training = image.select(bands).sampleRegions(**{\n",
        "  'collection': points,\n",
        "  'properties': ['discrete_classification'],\n",
        "  'scale': 30\n",
        "})\n",
        "\n",
        "# Train a CART classifier with default parameters.\n",
        "#trained = ee.Classifier.smileCart().train(training, label, bands)\n",
        "\n",
        "\n",
        "# Train a CART classifier with default parameters.\n",
        "trained = ee.Classifier.smileRandomForest(10).train(training, label, bands)\n",
        "\n"
      ],
      "metadata": {
        "id": "RlFbJdLCCUEq"
      },
      "execution_count": 66,
      "outputs": []
    },
    {
      "cell_type": "code",
      "source": [
        "print(training.first().getInfo())"
      ],
      "metadata": {
        "colab": {
          "base_uri": "https://localhost:8080/"
        },
        "id": "uCSaBrsqCwXy",
        "outputId": "3f3b22ed-f8f6-48ce-94be-689c291923e7"
      },
      "execution_count": 67,
      "outputs": [
        {
          "output_type": "stream",
          "name": "stdout",
          "text": [
            "{'type': 'Feature', 'geometry': None, 'id': '0_0', 'properties': {'B1': 474, 'B2': 573, 'B3': 882, 'B4': 993, 'B5': 2525, 'B6': 2337, 'B7': 1691, 'discrete_classification': 40}}\n"
          ]
        }
      ]
    },
    {
      "cell_type": "markdown",
      "source": [
        "#Classify the image"
      ],
      "metadata": {
        "id": "kF4xJMODC5WN"
      }
    },
    {
      "cell_type": "code",
      "source": [
        "# Classify the image with the same bands used for training.\n",
        "result = image.select(bands).classify(trained)\n",
        "\n",
        "# # Display the clusters with random colors.\n",
        "Map.addLayer(result.randomVisualizer(), {}, 'classified')\n",
        "Map"
      ],
      "metadata": {
        "colab": {
          "base_uri": "https://localhost:8080/",
          "height": 621,
          "referenced_widgets": [
            "0b0e18b3085d44da8ae2ecd284c463b7",
            "65ed04fba3ea44e6b1e25377d92986fa",
            "2d17b8bc37f8470296497a0dfc9f68a6",
            "e58d781dd2d945aeb1fd84010355ec8e",
            "bcf22a3d319d4ff589051768a4b6c3ab",
            "3dd0c8df447f45c39d9e848dd6ee0d53",
            "ee0b1e704d244a1293de5c113b26550b",
            "0ddf47e1bc0f4494a8a1a900857826a9",
            "d8534ffe54104d0f9210b6e1bb908bf4",
            "677c748df9704a8495355b5231b1b361",
            "9de1d179e52f4b0c84823ab0b13e6f4f",
            "0d0502c7462f42a18256fafc3f36fd82",
            "ae10ceb009dc49bbabcb070d4b2df567",
            "59b93ef578474e3b9cb979266d7bca8f",
            "501d80ba826b45b7a98a526643d45a81",
            "1a8a09ec1f944081b6adf38f477875dd",
            "d22beeb6c4df4813a1e255487cee6490",
            "bd65d966e29044dcb795a676c61a60d6",
            "e5a747f0eb474a16bbec4a44860b1cb8",
            "0df44593171345e38c3ce6ea5383aa63",
            "e5e6ef0a70974197bb0ef8ee987ba961",
            "9cdcdcbc91d14c4289ab15266234d3de",
            "9fb0ed7d0c05419184498340efafb736",
            "2725fec96e5c48dda482268c29f2910e",
            "aa25806a69014aa5bab90c53e441580b",
            "cde8cc450d7e4fefafc1df07167197f8",
            "a4c97d4e151f4570a1f3297972b12cb1",
            "781a0547b0f4477a870e64c19e152e9a",
            "443b6699739248989e54377f36cfe625",
            "9cc2058334fe4555ad888bf9e82b1517",
            "139d5a6ed7124438922085617c7e03c6",
            "07664e117eea49db82c8f38f0c157a1e",
            "b20a975f0fbe4186b8ccd22a24281f72",
            "97bfdd2169e7418eaed54fdb35f404db",
            "25fa2caf2e724adf959d82b25b7913ec",
            "f79aa9ea673046529d2c7315972ed5ad"
          ]
        },
        "id": "vsf7lNDYC0uA",
        "outputId": "36aa98ca-9970-43a8-fba8-568948b571d6"
      },
      "execution_count": 68,
      "outputs": [
        {
          "output_type": "display_data",
          "data": {
            "text/plain": [
              "Map(bottom=27345.0, center=[29.968, 77.5552], controls=(WidgetControl(options=['position', 'transparent_bg'], …"
            ],
            "application/vnd.jupyter.widget-view+json": {
              "version_major": 2,
              "version_minor": 0,
              "model_id": "0b0e18b3085d44da8ae2ecd284c463b7"
            }
          },
          "metadata": {
            "application/vnd.jupyter.widget-view+json": {
              "colab": {
                "custom_widget_manager": {
                  "url": "https://ssl.gstatic.com/colaboratory-static/widgets/colab-cdn-widget-manager/b3e629b1971e1542/manager.min.js"
                }
              }
            }
          }
        }
      ]
    },
    {
      "cell_type": "code",
      "source": [
        "class_values = train.get('discrete_classification').getInfo()\n",
        "class_values"
      ],
      "metadata": {
        "id": "Nx-XHOzgC95m"
      },
      "execution_count": 72,
      "outputs": []
    },
    {
      "cell_type": "code",
      "source": [
        "class_palette = train.get('discrete_classification').getInfo()\n",
        "class_palette"
      ],
      "metadata": {
        "id": "_roVYT1_2_4P"
      },
      "execution_count": 73,
      "outputs": []
    },
    {
      "cell_type": "code",
      "source": [
        "landcover = result.set('classification_class_values', class_values)\n",
        "landcover = landcover.set('classification_class_palette', class_palette)"
      ],
      "metadata": {
        "id": "w3JHBDd04niF"
      },
      "execution_count": 74,
      "outputs": []
    },
    {
      "cell_type": "code",
      "source": [
        "Map.addLayer(landcover, {}, 'Land cover')\n",
        "Map"
      ],
      "metadata": {
        "colab": {
          "base_uri": "https://localhost:8080/",
          "height": 621,
          "referenced_widgets": [
            "0b0e18b3085d44da8ae2ecd284c463b7",
            "65ed04fba3ea44e6b1e25377d92986fa",
            "2d17b8bc37f8470296497a0dfc9f68a6",
            "e58d781dd2d945aeb1fd84010355ec8e",
            "bcf22a3d319d4ff589051768a4b6c3ab",
            "3dd0c8df447f45c39d9e848dd6ee0d53",
            "ee0b1e704d244a1293de5c113b26550b",
            "0ddf47e1bc0f4494a8a1a900857826a9",
            "d8534ffe54104d0f9210b6e1bb908bf4",
            "677c748df9704a8495355b5231b1b361",
            "9de1d179e52f4b0c84823ab0b13e6f4f",
            "0d0502c7462f42a18256fafc3f36fd82",
            "ae10ceb009dc49bbabcb070d4b2df567",
            "59b93ef578474e3b9cb979266d7bca8f",
            "501d80ba826b45b7a98a526643d45a81",
            "1a8a09ec1f944081b6adf38f477875dd",
            "d22beeb6c4df4813a1e255487cee6490",
            "bd65d966e29044dcb795a676c61a60d6",
            "9cc2058334fe4555ad888bf9e82b1517",
            "e5a747f0eb474a16bbec4a44860b1cb8",
            "0df44593171345e38c3ce6ea5383aa63",
            "e5e6ef0a70974197bb0ef8ee987ba961",
            "9cdcdcbc91d14c4289ab15266234d3de",
            "9fb0ed7d0c05419184498340efafb736",
            "2725fec96e5c48dda482268c29f2910e",
            "aa25806a69014aa5bab90c53e441580b",
            "cde8cc450d7e4fefafc1df07167197f8",
            "a4c97d4e151f4570a1f3297972b12cb1",
            "781a0547b0f4477a870e64c19e152e9a",
            "443b6699739248989e54377f36cfe625",
            "139d5a6ed7124438922085617c7e03c6",
            "07664e117eea49db82c8f38f0c157a1e",
            "b20a975f0fbe4186b8ccd22a24281f72",
            "97bfdd2169e7418eaed54fdb35f404db",
            "25fa2caf2e724adf959d82b25b7913ec",
            "f79aa9ea673046529d2c7315972ed5ad"
          ]
        },
        "id": "V9UZTKqL4vH3",
        "outputId": "4925ca87-2c9d-4e5f-8e12-a03badac0f36"
      },
      "execution_count": 75,
      "outputs": [
        {
          "output_type": "display_data",
          "data": {
            "text/plain": [
              "Map(bottom=27345.0, center=[29.968, 77.5552], controls=(WidgetControl(options=['position', 'transparent_bg'], …"
            ],
            "application/vnd.jupyter.widget-view+json": {
              "version_major": 2,
              "version_minor": 0,
              "model_id": "0b0e18b3085d44da8ae2ecd284c463b7"
            }
          },
          "metadata": {
            "application/vnd.jupyter.widget-view+json": {
              "colab": {
                "custom_widget_manager": {
                  "url": "https://ssl.gstatic.com/colaboratory-static/widgets/colab-cdn-widget-manager/b3e629b1971e1542/manager.min.js"
                }
              }
            }
          }
        }
      ]
    },
    {
      "cell_type": "code",
      "source": [
        "print('Change layer opacity:')\n",
        "cluster_layer = Map.layers[-1]\n",
        "cluster_layer.interact(opacity=(0, 1, 0.1))\n",
        "     "
      ],
      "metadata": {
        "colab": {
          "base_uri": "https://localhost:8080/",
          "height": 66,
          "referenced_widgets": [
            "2a4008609a0d42b2a61649b90b175432",
            "f3cc9a4bb70243c096f4f84e28657cfe",
            "c0c11280564c4a80b2c1662fce316cd3",
            "bc8bf50c44fe4088b2f10e43ee5061f2",
            "426b968dca3a413692b4d6d8d25ac6e6"
          ]
        },
        "id": "U8oShz0A410X",
        "outputId": "d67380e3-0292-471c-ed30-4e17d928ec96"
      },
      "execution_count": 76,
      "outputs": [
        {
          "output_type": "stream",
          "name": "stdout",
          "text": [
            "Change layer opacity:\n"
          ]
        },
        {
          "output_type": "display_data",
          "data": {
            "text/plain": [
              "Box(children=(FloatSlider(value=1.0, description='opacity', max=1.0),))"
            ],
            "application/vnd.jupyter.widget-view+json": {
              "version_major": 2,
              "version_minor": 0,
              "model_id": "2a4008609a0d42b2a61649b90b175432"
            }
          },
          "metadata": {
            "application/vnd.jupyter.widget-view+json": {
              "colab": {
                "custom_widget_manager": {
                  "url": "https://ssl.gstatic.com/colaboratory-static/widgets/colab-cdn-widget-manager/b3e629b1971e1542/manager.min.js"
                }
              }
            }
          }
        }
      ]
    },
    {
      "cell_type": "code",
      "source": [
        "Map.add_legend(builtin_legend='COPERNICUS/Landcover/100m/Proba-V/Global')\n",
        "Map"
      ],
      "metadata": {
        "colab": {
          "base_uri": "https://localhost:8080/",
          "height": 621,
          "referenced_widgets": [
            "0b0e18b3085d44da8ae2ecd284c463b7",
            "65ed04fba3ea44e6b1e25377d92986fa",
            "2d17b8bc37f8470296497a0dfc9f68a6",
            "e58d781dd2d945aeb1fd84010355ec8e",
            "bcf22a3d319d4ff589051768a4b6c3ab",
            "3dd0c8df447f45c39d9e848dd6ee0d53",
            "ee0b1e704d244a1293de5c113b26550b",
            "0ddf47e1bc0f4494a8a1a900857826a9",
            "d8534ffe54104d0f9210b6e1bb908bf4",
            "677c748df9704a8495355b5231b1b361",
            "139d5a6ed7124438922085617c7e03c6",
            "9de1d179e52f4b0c84823ab0b13e6f4f",
            "0d0502c7462f42a18256fafc3f36fd82",
            "ae10ceb009dc49bbabcb070d4b2df567",
            "59b93ef578474e3b9cb979266d7bca8f",
            "501d80ba826b45b7a98a526643d45a81",
            "1a8a09ec1f944081b6adf38f477875dd",
            "d22beeb6c4df4813a1e255487cee6490",
            "bd65d966e29044dcb795a676c61a60d6",
            "9cc2058334fe4555ad888bf9e82b1517",
            "e5a747f0eb474a16bbec4a44860b1cb8",
            "0df44593171345e38c3ce6ea5383aa63",
            "e5e6ef0a70974197bb0ef8ee987ba961",
            "07664e117eea49db82c8f38f0c157a1e",
            "9cdcdcbc91d14c4289ab15266234d3de",
            "9fb0ed7d0c05419184498340efafb736",
            "2725fec96e5c48dda482268c29f2910e",
            "aa25806a69014aa5bab90c53e441580b",
            "b20a975f0fbe4186b8ccd22a24281f72",
            "cde8cc450d7e4fefafc1df07167197f8",
            "a4c97d4e151f4570a1f3297972b12cb1",
            "781a0547b0f4477a870e64c19e152e9a",
            "443b6699739248989e54377f36cfe625",
            "97bfdd2169e7418eaed54fdb35f404db",
            "25fa2caf2e724adf959d82b25b7913ec",
            "f79aa9ea673046529d2c7315972ed5ad"
          ]
        },
        "id": "e_BydidC8r_w",
        "outputId": "34f8b306-075b-4ffa-ca84-fa84ecff2e33"
      },
      "execution_count": 79,
      "outputs": [
        {
          "output_type": "display_data",
          "data": {
            "text/plain": [
              "Map(bottom=27345.0, center=[29.968, 77.5552], controls=(WidgetControl(options=['position', 'transparent_bg'], …"
            ],
            "application/vnd.jupyter.widget-view+json": {
              "version_major": 2,
              "version_minor": 0,
              "model_id": "0b0e18b3085d44da8ae2ecd284c463b7"
            }
          },
          "metadata": {
            "application/vnd.jupyter.widget-view+json": {
              "colab": {
                "custom_widget_manager": {
                  "url": "https://ssl.gstatic.com/colaboratory-static/widgets/colab-cdn-widget-manager/b3e629b1971e1542/manager.min.js"
                }
              }
            }
          }
        }
      ]
    }
  ]
}